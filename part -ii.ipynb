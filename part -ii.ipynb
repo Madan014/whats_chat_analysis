{
 "cells": [
  {
   "cell_type": "code",
   "execution_count": 2,
   "id": "71bf57b2",
   "metadata": {},
   "outputs": [],
   "source": [
    "# import the library\n",
    "import numpy as np\n",
    "import pandas as pd"
   ]
  },
  {
   "cell_type": "code",
   "execution_count": 5,
   "id": "4b05ef8b",
   "metadata": {},
   "outputs": [
    {
     "data": {
      "text/html": [
       "<div>\n",
       "<style scoped>\n",
       "    .dataframe tbody tr th:only-of-type {\n",
       "        vertical-align: middle;\n",
       "    }\n",
       "\n",
       "    .dataframe tbody tr th {\n",
       "        vertical-align: top;\n",
       "    }\n",
       "\n",
       "    .dataframe thead th {\n",
       "        text-align: right;\n",
       "    }\n",
       "</style>\n",
       "<table border=\"1\" class=\"dataframe\">\n",
       "  <thead>\n",
       "    <tr style=\"text-align: right;\">\n",
       "      <th></th>\n",
       "      <th>Unnamed: 0</th>\n",
       "      <th>dates</th>\n",
       "      <th>times</th>\n",
       "      <th>User Name</th>\n",
       "      <th>Messages</th>\n",
       "      <th>formats</th>\n",
       "      <th>year</th>\n",
       "      <th>month</th>\n",
       "      <th>day</th>\n",
       "    </tr>\n",
       "  </thead>\n",
       "  <tbody>\n",
       "    <tr>\n",
       "      <th>0</th>\n",
       "      <td>0</td>\n",
       "      <td>03/04/2023</td>\n",
       "      <td>11:12</td>\n",
       "      <td>sirji</td>\n",
       "      <td>Data bits (d)= 10110011) Find number of redun...</td>\n",
       "      <td>pm</td>\n",
       "      <td>2023</td>\n",
       "      <td>4</td>\n",
       "      <td>3</td>\n",
       "    </tr>\n",
       "    <tr>\n",
       "      <th>1</th>\n",
       "      <td>1</td>\n",
       "      <td>03/04/2023</td>\n",
       "      <td>11:13</td>\n",
       "      <td>sirji</td>\n",
       "      <td>2) Find hamming code 3) Verify from receiver ...</td>\n",
       "      <td>pm</td>\n",
       "      <td>2023</td>\n",
       "      <td>4</td>\n",
       "      <td>3</td>\n",
       "    </tr>\n",
       "    <tr>\n",
       "      <th>2</th>\n",
       "      <td>2</td>\n",
       "      <td>03/04/2023</td>\n",
       "      <td>11:15</td>\n",
       "      <td>sirji</td>\n",
       "      <td>Tomorrow we shall complete ethernet standards...</td>\n",
       "      <td>pm</td>\n",
       "      <td>2023</td>\n",
       "      <td>4</td>\n",
       "      <td>3</td>\n",
       "    </tr>\n",
       "    <tr>\n",
       "      <th>3</th>\n",
       "      <td>3</td>\n",
       "      <td>03/04/2023</td>\n",
       "      <td>11:52</td>\n",
       "      <td>sirji</td>\n",
       "      <td>Anyone online?\\n</td>\n",
       "      <td>pm</td>\n",
       "      <td>2023</td>\n",
       "      <td>4</td>\n",
       "      <td>3</td>\n",
       "    </tr>\n",
       "    <tr>\n",
       "      <th>4</th>\n",
       "      <td>4</td>\n",
       "      <td>03/04/2023</td>\n",
       "      <td>11:52</td>\n",
       "      <td>sirji</td>\n",
       "      <td>Please acknowledge if anyone is online\\n</td>\n",
       "      <td>pm</td>\n",
       "      <td>2023</td>\n",
       "      <td>4</td>\n",
       "      <td>3</td>\n",
       "    </tr>\n",
       "  </tbody>\n",
       "</table>\n",
       "</div>"
      ],
      "text/plain": [
       "   Unnamed: 0       dates  times User Name  \\\n",
       "0           0  03/04/2023  11:12     sirji   \n",
       "1           1  03/04/2023  11:13     sirji   \n",
       "2           2  03/04/2023  11:15     sirji   \n",
       "3           3  03/04/2023  11:52     sirji   \n",
       "4           4  03/04/2023  11:52     sirji   \n",
       "\n",
       "                                            Messages formats  year  month  day  \n",
       "0   Data bits (d)= 10110011) Find number of redun...      pm  2023      4    3  \n",
       "1   2) Find hamming code 3) Verify from receiver ...      pm  2023      4    3  \n",
       "2   Tomorrow we shall complete ethernet standards...      pm  2023      4    3  \n",
       "3                                   Anyone online?\\n      pm  2023      4    3  \n",
       "4           Please acknowledge if anyone is online\\n      pm  2023      4    3  "
      ]
     },
     "execution_count": 5,
     "metadata": {},
     "output_type": "execute_result"
    }
   ],
   "source": [
    "df=pd.read_csv(\"E:\\\\6th semmmm\\\\whats app\\\\cleaned.csv\")\n",
    "df.head()"
   ]
  },
  {
   "cell_type": "code",
   "execution_count": 6,
   "id": "719275bb",
   "metadata": {},
   "outputs": [],
   "source": [
    "df.drop(columns='Unnamed: 0',inplace=True)"
   ]
  },
  {
   "cell_type": "code",
   "execution_count": 7,
   "id": "fa26c797",
   "metadata": {},
   "outputs": [
    {
     "data": {
      "text/html": [
       "<div>\n",
       "<style scoped>\n",
       "    .dataframe tbody tr th:only-of-type {\n",
       "        vertical-align: middle;\n",
       "    }\n",
       "\n",
       "    .dataframe tbody tr th {\n",
       "        vertical-align: top;\n",
       "    }\n",
       "\n",
       "    .dataframe thead th {\n",
       "        text-align: right;\n",
       "    }\n",
       "</style>\n",
       "<table border=\"1\" class=\"dataframe\">\n",
       "  <thead>\n",
       "    <tr style=\"text-align: right;\">\n",
       "      <th></th>\n",
       "      <th>dates</th>\n",
       "      <th>times</th>\n",
       "      <th>User Name</th>\n",
       "      <th>Messages</th>\n",
       "      <th>formats</th>\n",
       "      <th>year</th>\n",
       "      <th>month</th>\n",
       "      <th>day</th>\n",
       "    </tr>\n",
       "  </thead>\n",
       "  <tbody>\n",
       "    <tr>\n",
       "      <th>0</th>\n",
       "      <td>03/04/2023</td>\n",
       "      <td>11:12</td>\n",
       "      <td>sirji</td>\n",
       "      <td>Data bits (d)= 10110011) Find number of redun...</td>\n",
       "      <td>pm</td>\n",
       "      <td>2023</td>\n",
       "      <td>4</td>\n",
       "      <td>3</td>\n",
       "    </tr>\n",
       "    <tr>\n",
       "      <th>1</th>\n",
       "      <td>03/04/2023</td>\n",
       "      <td>11:13</td>\n",
       "      <td>sirji</td>\n",
       "      <td>2) Find hamming code 3) Verify from receiver ...</td>\n",
       "      <td>pm</td>\n",
       "      <td>2023</td>\n",
       "      <td>4</td>\n",
       "      <td>3</td>\n",
       "    </tr>\n",
       "    <tr>\n",
       "      <th>2</th>\n",
       "      <td>03/04/2023</td>\n",
       "      <td>11:15</td>\n",
       "      <td>sirji</td>\n",
       "      <td>Tomorrow we shall complete ethernet standards...</td>\n",
       "      <td>pm</td>\n",
       "      <td>2023</td>\n",
       "      <td>4</td>\n",
       "      <td>3</td>\n",
       "    </tr>\n",
       "    <tr>\n",
       "      <th>3</th>\n",
       "      <td>03/04/2023</td>\n",
       "      <td>11:52</td>\n",
       "      <td>sirji</td>\n",
       "      <td>Anyone online?\\n</td>\n",
       "      <td>pm</td>\n",
       "      <td>2023</td>\n",
       "      <td>4</td>\n",
       "      <td>3</td>\n",
       "    </tr>\n",
       "    <tr>\n",
       "      <th>4</th>\n",
       "      <td>03/04/2023</td>\n",
       "      <td>11:52</td>\n",
       "      <td>sirji</td>\n",
       "      <td>Please acknowledge if anyone is online\\n</td>\n",
       "      <td>pm</td>\n",
       "      <td>2023</td>\n",
       "      <td>4</td>\n",
       "      <td>3</td>\n",
       "    </tr>\n",
       "  </tbody>\n",
       "</table>\n",
       "</div>"
      ],
      "text/plain": [
       "        dates  times User Name  \\\n",
       "0  03/04/2023  11:12     sirji   \n",
       "1  03/04/2023  11:13     sirji   \n",
       "2  03/04/2023  11:15     sirji   \n",
       "3  03/04/2023  11:52     sirji   \n",
       "4  03/04/2023  11:52     sirji   \n",
       "\n",
       "                                            Messages formats  year  month  day  \n",
       "0   Data bits (d)= 10110011) Find number of redun...      pm  2023      4    3  \n",
       "1   2) Find hamming code 3) Verify from receiver ...      pm  2023      4    3  \n",
       "2   Tomorrow we shall complete ethernet standards...      pm  2023      4    3  \n",
       "3                                   Anyone online?\\n      pm  2023      4    3  \n",
       "4           Please acknowledge if anyone is online\\n      pm  2023      4    3  "
      ]
     },
     "execution_count": 7,
     "metadata": {},
     "output_type": "execute_result"
    }
   ],
   "source": [
    "df.head()"
   ]
  },
  {
   "cell_type": "code",
   "execution_count": 8,
   "id": "ddccde88",
   "metadata": {},
   "outputs": [
    {
     "name": "stdout",
     "output_type": "stream",
     "text": [
      "<class 'pandas.core.frame.DataFrame'>\n",
      "RangeIndex: 231 entries, 0 to 230\n",
      "Data columns (total 8 columns):\n",
      " #   Column     Non-Null Count  Dtype \n",
      "---  ------     --------------  ----- \n",
      " 0   dates      231 non-null    object\n",
      " 1   times      231 non-null    object\n",
      " 2   User Name  231 non-null    object\n",
      " 3   Messages   231 non-null    object\n",
      " 4   formats    231 non-null    object\n",
      " 5   year       231 non-null    int64 \n",
      " 6   month      231 non-null    int64 \n",
      " 7   day        231 non-null    int64 \n",
      "dtypes: int64(3), object(5)\n",
      "memory usage: 14.6+ KB\n"
     ]
    }
   ],
   "source": [
    "df.info()"
   ]
  },
  {
   "cell_type": "code",
   "execution_count": 10,
   "id": "ac49bbba",
   "metadata": {},
   "outputs": [
    {
     "name": "stdout",
     "output_type": "stream",
     "text": [
      " converted sucessfully\n"
     ]
    }
   ],
   "source": [
    "df['dates'] = pd.to_datetime(df['dates'],format='mixed')\n",
    "print(\" converted sucessfully\")"
   ]
  },
  {
   "cell_type": "code",
   "execution_count": 11,
   "id": "296f48bb",
   "metadata": {},
   "outputs": [
    {
     "name": "stdout",
     "output_type": "stream",
     "text": [
      "<class 'pandas.core.frame.DataFrame'>\n",
      "RangeIndex: 231 entries, 0 to 230\n",
      "Data columns (total 8 columns):\n",
      " #   Column     Non-Null Count  Dtype         \n",
      "---  ------     --------------  -----         \n",
      " 0   dates      231 non-null    datetime64[ns]\n",
      " 1   times      231 non-null    object        \n",
      " 2   User Name  231 non-null    object        \n",
      " 3   Messages   231 non-null    object        \n",
      " 4   formats    231 non-null    object        \n",
      " 5   year       231 non-null    int64         \n",
      " 6   month      231 non-null    int64         \n",
      " 7   day        231 non-null    int64         \n",
      "dtypes: datetime64[ns](1), int64(3), object(4)\n",
      "memory usage: 14.6+ KB\n"
     ]
    }
   ],
   "source": [
    "df.info()"
   ]
  },
  {
   "cell_type": "code",
   "execution_count": 12,
   "id": "ed0461e4",
   "metadata": {},
   "outputs": [],
   "source": [
    "df.drop(columns=['year','month','day'],inplace=True)"
   ]
  },
  {
   "cell_type": "code",
   "execution_count": 15,
   "id": "b1a0d643",
   "metadata": {},
   "outputs": [],
   "source": [
    "# extract the year month name and day from the datetimes\n",
    "df['year']=df['dates'].dt.year\n",
    "df['moth']=df['dates'].dt.month\n",
    "df['day']=df['dates'].dt.day"
   ]
  },
  {
   "cell_type": "code",
   "execution_count": 16,
   "id": "e2d02e25",
   "metadata": {},
   "outputs": [
    {
     "data": {
      "text/html": [
       "<div>\n",
       "<style scoped>\n",
       "    .dataframe tbody tr th:only-of-type {\n",
       "        vertical-align: middle;\n",
       "    }\n",
       "\n",
       "    .dataframe tbody tr th {\n",
       "        vertical-align: top;\n",
       "    }\n",
       "\n",
       "    .dataframe thead th {\n",
       "        text-align: right;\n",
       "    }\n",
       "</style>\n",
       "<table border=\"1\" class=\"dataframe\">\n",
       "  <thead>\n",
       "    <tr style=\"text-align: right;\">\n",
       "      <th></th>\n",
       "      <th>dates</th>\n",
       "      <th>times</th>\n",
       "      <th>User Name</th>\n",
       "      <th>Messages</th>\n",
       "      <th>formats</th>\n",
       "      <th>year</th>\n",
       "      <th>moth</th>\n",
       "      <th>day</th>\n",
       "    </tr>\n",
       "  </thead>\n",
       "  <tbody>\n",
       "    <tr>\n",
       "      <th>0</th>\n",
       "      <td>2023-03-04</td>\n",
       "      <td>11:12</td>\n",
       "      <td>sirji</td>\n",
       "      <td>Data bits (d)= 10110011) Find number of redun...</td>\n",
       "      <td>pm</td>\n",
       "      <td>2023</td>\n",
       "      <td>3</td>\n",
       "      <td>4</td>\n",
       "    </tr>\n",
       "    <tr>\n",
       "      <th>1</th>\n",
       "      <td>2023-03-04</td>\n",
       "      <td>11:13</td>\n",
       "      <td>sirji</td>\n",
       "      <td>2) Find hamming code 3) Verify from receiver ...</td>\n",
       "      <td>pm</td>\n",
       "      <td>2023</td>\n",
       "      <td>3</td>\n",
       "      <td>4</td>\n",
       "    </tr>\n",
       "    <tr>\n",
       "      <th>2</th>\n",
       "      <td>2023-03-04</td>\n",
       "      <td>11:15</td>\n",
       "      <td>sirji</td>\n",
       "      <td>Tomorrow we shall complete ethernet standards...</td>\n",
       "      <td>pm</td>\n",
       "      <td>2023</td>\n",
       "      <td>3</td>\n",
       "      <td>4</td>\n",
       "    </tr>\n",
       "    <tr>\n",
       "      <th>3</th>\n",
       "      <td>2023-03-04</td>\n",
       "      <td>11:52</td>\n",
       "      <td>sirji</td>\n",
       "      <td>Anyone online?\\n</td>\n",
       "      <td>pm</td>\n",
       "      <td>2023</td>\n",
       "      <td>3</td>\n",
       "      <td>4</td>\n",
       "    </tr>\n",
       "    <tr>\n",
       "      <th>4</th>\n",
       "      <td>2023-03-04</td>\n",
       "      <td>11:52</td>\n",
       "      <td>sirji</td>\n",
       "      <td>Please acknowledge if anyone is online\\n</td>\n",
       "      <td>pm</td>\n",
       "      <td>2023</td>\n",
       "      <td>3</td>\n",
       "      <td>4</td>\n",
       "    </tr>\n",
       "  </tbody>\n",
       "</table>\n",
       "</div>"
      ],
      "text/plain": [
       "       dates  times User Name  \\\n",
       "0 2023-03-04  11:12     sirji   \n",
       "1 2023-03-04  11:13     sirji   \n",
       "2 2023-03-04  11:15     sirji   \n",
       "3 2023-03-04  11:52     sirji   \n",
       "4 2023-03-04  11:52     sirji   \n",
       "\n",
       "                                            Messages formats  year  moth  day  \n",
       "0   Data bits (d)= 10110011) Find number of redun...      pm  2023     3    4  \n",
       "1   2) Find hamming code 3) Verify from receiver ...      pm  2023     3    4  \n",
       "2   Tomorrow we shall complete ethernet standards...      pm  2023     3    4  \n",
       "3                                   Anyone online?\\n      pm  2023     3    4  \n",
       "4           Please acknowledge if anyone is online\\n      pm  2023     3    4  "
      ]
     },
     "execution_count": 16,
     "metadata": {},
     "output_type": "execute_result"
    }
   ],
   "source": [
    "df.head()"
   ]
  },
  {
   "cell_type": "code",
   "execution_count": 19,
   "id": "2ddeb61c",
   "metadata": {},
   "outputs": [],
   "source": [
    "# extract the month name and the day name\n",
    "df['month_name']=df['dates'].dt.strftime('%B')\n",
    "df['day_name']=df['dates'].dt.strftime('%A')"
   ]
  },
  {
   "cell_type": "code",
   "execution_count": 20,
   "id": "d2f9bf62",
   "metadata": {},
   "outputs": [
    {
     "data": {
      "text/html": [
       "<div>\n",
       "<style scoped>\n",
       "    .dataframe tbody tr th:only-of-type {\n",
       "        vertical-align: middle;\n",
       "    }\n",
       "\n",
       "    .dataframe tbody tr th {\n",
       "        vertical-align: top;\n",
       "    }\n",
       "\n",
       "    .dataframe thead th {\n",
       "        text-align: right;\n",
       "    }\n",
       "</style>\n",
       "<table border=\"1\" class=\"dataframe\">\n",
       "  <thead>\n",
       "    <tr style=\"text-align: right;\">\n",
       "      <th></th>\n",
       "      <th>dates</th>\n",
       "      <th>times</th>\n",
       "      <th>User Name</th>\n",
       "      <th>Messages</th>\n",
       "      <th>formats</th>\n",
       "      <th>year</th>\n",
       "      <th>moth</th>\n",
       "      <th>day</th>\n",
       "      <th>month_name</th>\n",
       "      <th>day_name</th>\n",
       "    </tr>\n",
       "  </thead>\n",
       "  <tbody>\n",
       "    <tr>\n",
       "      <th>0</th>\n",
       "      <td>2023-03-04</td>\n",
       "      <td>11:12</td>\n",
       "      <td>sirji</td>\n",
       "      <td>Data bits (d)= 10110011) Find number of redun...</td>\n",
       "      <td>pm</td>\n",
       "      <td>2023</td>\n",
       "      <td>3</td>\n",
       "      <td>4</td>\n",
       "      <td>March</td>\n",
       "      <td>Saturday</td>\n",
       "    </tr>\n",
       "    <tr>\n",
       "      <th>1</th>\n",
       "      <td>2023-03-04</td>\n",
       "      <td>11:13</td>\n",
       "      <td>sirji</td>\n",
       "      <td>2) Find hamming code 3) Verify from receiver ...</td>\n",
       "      <td>pm</td>\n",
       "      <td>2023</td>\n",
       "      <td>3</td>\n",
       "      <td>4</td>\n",
       "      <td>March</td>\n",
       "      <td>Saturday</td>\n",
       "    </tr>\n",
       "    <tr>\n",
       "      <th>2</th>\n",
       "      <td>2023-03-04</td>\n",
       "      <td>11:15</td>\n",
       "      <td>sirji</td>\n",
       "      <td>Tomorrow we shall complete ethernet standards...</td>\n",
       "      <td>pm</td>\n",
       "      <td>2023</td>\n",
       "      <td>3</td>\n",
       "      <td>4</td>\n",
       "      <td>March</td>\n",
       "      <td>Saturday</td>\n",
       "    </tr>\n",
       "    <tr>\n",
       "      <th>3</th>\n",
       "      <td>2023-03-04</td>\n",
       "      <td>11:52</td>\n",
       "      <td>sirji</td>\n",
       "      <td>Anyone online?\\n</td>\n",
       "      <td>pm</td>\n",
       "      <td>2023</td>\n",
       "      <td>3</td>\n",
       "      <td>4</td>\n",
       "      <td>March</td>\n",
       "      <td>Saturday</td>\n",
       "    </tr>\n",
       "    <tr>\n",
       "      <th>4</th>\n",
       "      <td>2023-03-04</td>\n",
       "      <td>11:52</td>\n",
       "      <td>sirji</td>\n",
       "      <td>Please acknowledge if anyone is online\\n</td>\n",
       "      <td>pm</td>\n",
       "      <td>2023</td>\n",
       "      <td>3</td>\n",
       "      <td>4</td>\n",
       "      <td>March</td>\n",
       "      <td>Saturday</td>\n",
       "    </tr>\n",
       "  </tbody>\n",
       "</table>\n",
       "</div>"
      ],
      "text/plain": [
       "       dates  times User Name  \\\n",
       "0 2023-03-04  11:12     sirji   \n",
       "1 2023-03-04  11:13     sirji   \n",
       "2 2023-03-04  11:15     sirji   \n",
       "3 2023-03-04  11:52     sirji   \n",
       "4 2023-03-04  11:52     sirji   \n",
       "\n",
       "                                            Messages formats  year  moth  day  \\\n",
       "0   Data bits (d)= 10110011) Find number of redun...      pm  2023     3    4   \n",
       "1   2) Find hamming code 3) Verify from receiver ...      pm  2023     3    4   \n",
       "2   Tomorrow we shall complete ethernet standards...      pm  2023     3    4   \n",
       "3                                   Anyone online?\\n      pm  2023     3    4   \n",
       "4           Please acknowledge if anyone is online\\n      pm  2023     3    4   \n",
       "\n",
       "  month_name  day_name  \n",
       "0      March  Saturday  \n",
       "1      March  Saturday  \n",
       "2      March  Saturday  \n",
       "3      March  Saturday  \n",
       "4      March  Saturday  "
      ]
     },
     "execution_count": 20,
     "metadata": {},
     "output_type": "execute_result"
    }
   ],
   "source": [
    "df.head()"
   ]
  },
  {
   "cell_type": "code",
   "execution_count": 29,
   "id": "ccb75670",
   "metadata": {},
   "outputs": [],
   "source": [
    "df['times_'] = df['times'].str.cat(df['formats'], sep='')"
   ]
  },
  {
   "cell_type": "code",
   "execution_count": 22,
   "id": "1a687424",
   "metadata": {},
   "outputs": [
    {
     "data": {
      "text/html": [
       "<div>\n",
       "<style scoped>\n",
       "    .dataframe tbody tr th:only-of-type {\n",
       "        vertical-align: middle;\n",
       "    }\n",
       "\n",
       "    .dataframe tbody tr th {\n",
       "        vertical-align: top;\n",
       "    }\n",
       "\n",
       "    .dataframe thead th {\n",
       "        text-align: right;\n",
       "    }\n",
       "</style>\n",
       "<table border=\"1\" class=\"dataframe\">\n",
       "  <thead>\n",
       "    <tr style=\"text-align: right;\">\n",
       "      <th></th>\n",
       "      <th>dates</th>\n",
       "      <th>times</th>\n",
       "      <th>User Name</th>\n",
       "      <th>Messages</th>\n",
       "      <th>formats</th>\n",
       "      <th>year</th>\n",
       "      <th>moth</th>\n",
       "      <th>day</th>\n",
       "      <th>month_name</th>\n",
       "      <th>day_name</th>\n",
       "      <th>times_</th>\n",
       "    </tr>\n",
       "  </thead>\n",
       "  <tbody>\n",
       "    <tr>\n",
       "      <th>0</th>\n",
       "      <td>2023-03-04</td>\n",
       "      <td>11:12</td>\n",
       "      <td>sirji</td>\n",
       "      <td>Data bits (d)= 10110011) Find number of redun...</td>\n",
       "      <td>pm</td>\n",
       "      <td>2023</td>\n",
       "      <td>3</td>\n",
       "      <td>4</td>\n",
       "      <td>March</td>\n",
       "      <td>Saturday</td>\n",
       "      <td>11:12 pm</td>\n",
       "    </tr>\n",
       "    <tr>\n",
       "      <th>1</th>\n",
       "      <td>2023-03-04</td>\n",
       "      <td>11:13</td>\n",
       "      <td>sirji</td>\n",
       "      <td>2) Find hamming code 3) Verify from receiver ...</td>\n",
       "      <td>pm</td>\n",
       "      <td>2023</td>\n",
       "      <td>3</td>\n",
       "      <td>4</td>\n",
       "      <td>March</td>\n",
       "      <td>Saturday</td>\n",
       "      <td>11:13 pm</td>\n",
       "    </tr>\n",
       "    <tr>\n",
       "      <th>2</th>\n",
       "      <td>2023-03-04</td>\n",
       "      <td>11:15</td>\n",
       "      <td>sirji</td>\n",
       "      <td>Tomorrow we shall complete ethernet standards...</td>\n",
       "      <td>pm</td>\n",
       "      <td>2023</td>\n",
       "      <td>3</td>\n",
       "      <td>4</td>\n",
       "      <td>March</td>\n",
       "      <td>Saturday</td>\n",
       "      <td>11:15 pm</td>\n",
       "    </tr>\n",
       "    <tr>\n",
       "      <th>3</th>\n",
       "      <td>2023-03-04</td>\n",
       "      <td>11:52</td>\n",
       "      <td>sirji</td>\n",
       "      <td>Anyone online?\\n</td>\n",
       "      <td>pm</td>\n",
       "      <td>2023</td>\n",
       "      <td>3</td>\n",
       "      <td>4</td>\n",
       "      <td>March</td>\n",
       "      <td>Saturday</td>\n",
       "      <td>11:52 pm</td>\n",
       "    </tr>\n",
       "    <tr>\n",
       "      <th>4</th>\n",
       "      <td>2023-03-04</td>\n",
       "      <td>11:52</td>\n",
       "      <td>sirji</td>\n",
       "      <td>Please acknowledge if anyone is online\\n</td>\n",
       "      <td>pm</td>\n",
       "      <td>2023</td>\n",
       "      <td>3</td>\n",
       "      <td>4</td>\n",
       "      <td>March</td>\n",
       "      <td>Saturday</td>\n",
       "      <td>11:52 pm</td>\n",
       "    </tr>\n",
       "  </tbody>\n",
       "</table>\n",
       "</div>"
      ],
      "text/plain": [
       "       dates  times User Name  \\\n",
       "0 2023-03-04  11:12     sirji   \n",
       "1 2023-03-04  11:13     sirji   \n",
       "2 2023-03-04  11:15     sirji   \n",
       "3 2023-03-04  11:52     sirji   \n",
       "4 2023-03-04  11:52     sirji   \n",
       "\n",
       "                                            Messages formats  year  moth  day  \\\n",
       "0   Data bits (d)= 10110011) Find number of redun...      pm  2023     3    4   \n",
       "1   2) Find hamming code 3) Verify from receiver ...      pm  2023     3    4   \n",
       "2   Tomorrow we shall complete ethernet standards...      pm  2023     3    4   \n",
       "3                                   Anyone online?\\n      pm  2023     3    4   \n",
       "4           Please acknowledge if anyone is online\\n      pm  2023     3    4   \n",
       "\n",
       "  month_name  day_name    times_  \n",
       "0      March  Saturday  11:12 pm  \n",
       "1      March  Saturday  11:13 pm  \n",
       "2      March  Saturday  11:15 pm  \n",
       "3      March  Saturday  11:52 pm  \n",
       "4      March  Saturday  11:52 pm  "
      ]
     },
     "execution_count": 22,
     "metadata": {},
     "output_type": "execute_result"
    }
   ],
   "source": [
    "df.head()"
   ]
  },
  {
   "cell_type": "code",
   "execution_count": 24,
   "id": "e5615663",
   "metadata": {},
   "outputs": [
    {
     "data": {
      "text/html": [
       "<div>\n",
       "<style scoped>\n",
       "    .dataframe tbody tr th:only-of-type {\n",
       "        vertical-align: middle;\n",
       "    }\n",
       "\n",
       "    .dataframe tbody tr th {\n",
       "        vertical-align: top;\n",
       "    }\n",
       "\n",
       "    .dataframe thead th {\n",
       "        text-align: right;\n",
       "    }\n",
       "</style>\n",
       "<table border=\"1\" class=\"dataframe\">\n",
       "  <thead>\n",
       "    <tr style=\"text-align: right;\">\n",
       "      <th></th>\n",
       "      <th>times</th>\n",
       "      <th>User Name</th>\n",
       "      <th>Messages</th>\n",
       "      <th>formats</th>\n",
       "      <th>year</th>\n",
       "      <th>moth</th>\n",
       "      <th>day</th>\n",
       "      <th>month_name</th>\n",
       "      <th>day_name</th>\n",
       "      <th>times_</th>\n",
       "    </tr>\n",
       "  </thead>\n",
       "  <tbody>\n",
       "    <tr>\n",
       "      <th>0</th>\n",
       "      <td>11:12</td>\n",
       "      <td>sirji</td>\n",
       "      <td>Data bits (d)= 10110011) Find number of redun...</td>\n",
       "      <td>pm</td>\n",
       "      <td>2023</td>\n",
       "      <td>3</td>\n",
       "      <td>4</td>\n",
       "      <td>March</td>\n",
       "      <td>Saturday</td>\n",
       "      <td>11:12 pm</td>\n",
       "    </tr>\n",
       "    <tr>\n",
       "      <th>1</th>\n",
       "      <td>11:13</td>\n",
       "      <td>sirji</td>\n",
       "      <td>2) Find hamming code 3) Verify from receiver ...</td>\n",
       "      <td>pm</td>\n",
       "      <td>2023</td>\n",
       "      <td>3</td>\n",
       "      <td>4</td>\n",
       "      <td>March</td>\n",
       "      <td>Saturday</td>\n",
       "      <td>11:13 pm</td>\n",
       "    </tr>\n",
       "    <tr>\n",
       "      <th>2</th>\n",
       "      <td>11:15</td>\n",
       "      <td>sirji</td>\n",
       "      <td>Tomorrow we shall complete ethernet standards...</td>\n",
       "      <td>pm</td>\n",
       "      <td>2023</td>\n",
       "      <td>3</td>\n",
       "      <td>4</td>\n",
       "      <td>March</td>\n",
       "      <td>Saturday</td>\n",
       "      <td>11:15 pm</td>\n",
       "    </tr>\n",
       "    <tr>\n",
       "      <th>3</th>\n",
       "      <td>11:52</td>\n",
       "      <td>sirji</td>\n",
       "      <td>Anyone online?\\n</td>\n",
       "      <td>pm</td>\n",
       "      <td>2023</td>\n",
       "      <td>3</td>\n",
       "      <td>4</td>\n",
       "      <td>March</td>\n",
       "      <td>Saturday</td>\n",
       "      <td>11:52 pm</td>\n",
       "    </tr>\n",
       "    <tr>\n",
       "      <th>4</th>\n",
       "      <td>11:52</td>\n",
       "      <td>sirji</td>\n",
       "      <td>Please acknowledge if anyone is online\\n</td>\n",
       "      <td>pm</td>\n",
       "      <td>2023</td>\n",
       "      <td>3</td>\n",
       "      <td>4</td>\n",
       "      <td>March</td>\n",
       "      <td>Saturday</td>\n",
       "      <td>11:52 pm</td>\n",
       "    </tr>\n",
       "  </tbody>\n",
       "</table>\n",
       "</div>"
      ],
      "text/plain": [
       "   times User Name                                           Messages formats  \\\n",
       "0  11:12     sirji   Data bits (d)= 10110011) Find number of redun...      pm   \n",
       "1  11:13     sirji   2) Find hamming code 3) Verify from receiver ...      pm   \n",
       "2  11:15     sirji   Tomorrow we shall complete ethernet standards...      pm   \n",
       "3  11:52     sirji                                   Anyone online?\\n      pm   \n",
       "4  11:52     sirji           Please acknowledge if anyone is online\\n      pm   \n",
       "\n",
       "   year  moth  day month_name  day_name    times_  \n",
       "0  2023     3    4      March  Saturday  11:12 pm  \n",
       "1  2023     3    4      March  Saturday  11:13 pm  \n",
       "2  2023     3    4      March  Saturday  11:15 pm  \n",
       "3  2023     3    4      March  Saturday  11:52 pm  \n",
       "4  2023     3    4      March  Saturday  11:52 pm  "
      ]
     },
     "execution_count": 24,
     "metadata": {},
     "output_type": "execute_result"
    }
   ],
   "source": [
    "df.head()"
   ]
  },
  {
   "cell_type": "code",
   "execution_count": 31,
   "id": "bec53863",
   "metadata": {},
   "outputs": [],
   "source": [
    "df['times_']=df['times_'].str.upper()"
   ]
  },
  {
   "cell_type": "code",
   "execution_count": 37,
   "id": "5a1ba15d",
   "metadata": {},
   "outputs": [
    {
     "data": {
      "text/html": [
       "<div>\n",
       "<style scoped>\n",
       "    .dataframe tbody tr th:only-of-type {\n",
       "        vertical-align: middle;\n",
       "    }\n",
       "\n",
       "    .dataframe tbody tr th {\n",
       "        vertical-align: top;\n",
       "    }\n",
       "\n",
       "    .dataframe thead th {\n",
       "        text-align: right;\n",
       "    }\n",
       "</style>\n",
       "<table border=\"1\" class=\"dataframe\">\n",
       "  <thead>\n",
       "    <tr style=\"text-align: right;\">\n",
       "      <th></th>\n",
       "      <th>times</th>\n",
       "      <th>User Name</th>\n",
       "      <th>Messages</th>\n",
       "      <th>formats</th>\n",
       "      <th>year</th>\n",
       "      <th>moth</th>\n",
       "      <th>day</th>\n",
       "      <th>month_name</th>\n",
       "      <th>day_name</th>\n",
       "      <th>times_</th>\n",
       "    </tr>\n",
       "  </thead>\n",
       "  <tbody>\n",
       "    <tr>\n",
       "      <th>0</th>\n",
       "      <td>11:12</td>\n",
       "      <td>sirji</td>\n",
       "      <td>Data bits (d)= 10110011) Find number of redun...</td>\n",
       "      <td>pm</td>\n",
       "      <td>2023</td>\n",
       "      <td>3</td>\n",
       "      <td>4</td>\n",
       "      <td>March</td>\n",
       "      <td>Saturday</td>\n",
       "      <td>11:12PM</td>\n",
       "    </tr>\n",
       "    <tr>\n",
       "      <th>1</th>\n",
       "      <td>11:13</td>\n",
       "      <td>sirji</td>\n",
       "      <td>2) Find hamming code 3) Verify from receiver ...</td>\n",
       "      <td>pm</td>\n",
       "      <td>2023</td>\n",
       "      <td>3</td>\n",
       "      <td>4</td>\n",
       "      <td>March</td>\n",
       "      <td>Saturday</td>\n",
       "      <td>11:13PM</td>\n",
       "    </tr>\n",
       "    <tr>\n",
       "      <th>2</th>\n",
       "      <td>11:15</td>\n",
       "      <td>sirji</td>\n",
       "      <td>Tomorrow we shall complete ethernet standards...</td>\n",
       "      <td>pm</td>\n",
       "      <td>2023</td>\n",
       "      <td>3</td>\n",
       "      <td>4</td>\n",
       "      <td>March</td>\n",
       "      <td>Saturday</td>\n",
       "      <td>11:15PM</td>\n",
       "    </tr>\n",
       "    <tr>\n",
       "      <th>3</th>\n",
       "      <td>11:52</td>\n",
       "      <td>sirji</td>\n",
       "      <td>Anyone online?\\n</td>\n",
       "      <td>pm</td>\n",
       "      <td>2023</td>\n",
       "      <td>3</td>\n",
       "      <td>4</td>\n",
       "      <td>March</td>\n",
       "      <td>Saturday</td>\n",
       "      <td>11:52PM</td>\n",
       "    </tr>\n",
       "    <tr>\n",
       "      <th>4</th>\n",
       "      <td>11:52</td>\n",
       "      <td>sirji</td>\n",
       "      <td>Please acknowledge if anyone is online\\n</td>\n",
       "      <td>pm</td>\n",
       "      <td>2023</td>\n",
       "      <td>3</td>\n",
       "      <td>4</td>\n",
       "      <td>March</td>\n",
       "      <td>Saturday</td>\n",
       "      <td>11:52PM</td>\n",
       "    </tr>\n",
       "  </tbody>\n",
       "</table>\n",
       "</div>"
      ],
      "text/plain": [
       "   times User Name                                           Messages formats  \\\n",
       "0  11:12     sirji   Data bits (d)= 10110011) Find number of redun...      pm   \n",
       "1  11:13     sirji   2) Find hamming code 3) Verify from receiver ...      pm   \n",
       "2  11:15     sirji   Tomorrow we shall complete ethernet standards...      pm   \n",
       "3  11:52     sirji                                   Anyone online?\\n      pm   \n",
       "4  11:52     sirji           Please acknowledge if anyone is online\\n      pm   \n",
       "\n",
       "   year  moth  day month_name  day_name   times_  \n",
       "0  2023     3    4      March  Saturday  11:12PM  \n",
       "1  2023     3    4      March  Saturday  11:13PM  \n",
       "2  2023     3    4      March  Saturday  11:15PM  \n",
       "3  2023     3    4      March  Saturday  11:52PM  \n",
       "4  2023     3    4      March  Saturday  11:52PM  "
      ]
     },
     "execution_count": 37,
     "metadata": {},
     "output_type": "execute_result"
    }
   ],
   "source": [
    "df.head()"
   ]
  },
  {
   "cell_type": "code",
   "execution_count": 44,
   "id": "60df3b6a",
   "metadata": {},
   "outputs": [],
   "source": [
    "df.drop(columns='times_',inplace=True)"
   ]
  },
  {
   "cell_type": "code",
   "execution_count": 45,
   "id": "f2b4c71f",
   "metadata": {},
   "outputs": [
    {
     "data": {
      "text/html": [
       "<div>\n",
       "<style scoped>\n",
       "    .dataframe tbody tr th:only-of-type {\n",
       "        vertical-align: middle;\n",
       "    }\n",
       "\n",
       "    .dataframe tbody tr th {\n",
       "        vertical-align: top;\n",
       "    }\n",
       "\n",
       "    .dataframe thead th {\n",
       "        text-align: right;\n",
       "    }\n",
       "</style>\n",
       "<table border=\"1\" class=\"dataframe\">\n",
       "  <thead>\n",
       "    <tr style=\"text-align: right;\">\n",
       "      <th></th>\n",
       "      <th>times</th>\n",
       "      <th>User Name</th>\n",
       "      <th>Messages</th>\n",
       "      <th>formats</th>\n",
       "      <th>year</th>\n",
       "      <th>moth</th>\n",
       "      <th>day</th>\n",
       "      <th>month_name</th>\n",
       "      <th>day_name</th>\n",
       "    </tr>\n",
       "  </thead>\n",
       "  <tbody>\n",
       "    <tr>\n",
       "      <th>0</th>\n",
       "      <td>11:12</td>\n",
       "      <td>sirji</td>\n",
       "      <td>Data bits (d)= 10110011) Find number of redun...</td>\n",
       "      <td>pm</td>\n",
       "      <td>2023</td>\n",
       "      <td>3</td>\n",
       "      <td>4</td>\n",
       "      <td>March</td>\n",
       "      <td>Saturday</td>\n",
       "    </tr>\n",
       "    <tr>\n",
       "      <th>1</th>\n",
       "      <td>11:13</td>\n",
       "      <td>sirji</td>\n",
       "      <td>2) Find hamming code 3) Verify from receiver ...</td>\n",
       "      <td>pm</td>\n",
       "      <td>2023</td>\n",
       "      <td>3</td>\n",
       "      <td>4</td>\n",
       "      <td>March</td>\n",
       "      <td>Saturday</td>\n",
       "    </tr>\n",
       "    <tr>\n",
       "      <th>2</th>\n",
       "      <td>11:15</td>\n",
       "      <td>sirji</td>\n",
       "      <td>Tomorrow we shall complete ethernet standards...</td>\n",
       "      <td>pm</td>\n",
       "      <td>2023</td>\n",
       "      <td>3</td>\n",
       "      <td>4</td>\n",
       "      <td>March</td>\n",
       "      <td>Saturday</td>\n",
       "    </tr>\n",
       "    <tr>\n",
       "      <th>3</th>\n",
       "      <td>11:52</td>\n",
       "      <td>sirji</td>\n",
       "      <td>Anyone online?\\n</td>\n",
       "      <td>pm</td>\n",
       "      <td>2023</td>\n",
       "      <td>3</td>\n",
       "      <td>4</td>\n",
       "      <td>March</td>\n",
       "      <td>Saturday</td>\n",
       "    </tr>\n",
       "    <tr>\n",
       "      <th>4</th>\n",
       "      <td>11:52</td>\n",
       "      <td>sirji</td>\n",
       "      <td>Please acknowledge if anyone is online\\n</td>\n",
       "      <td>pm</td>\n",
       "      <td>2023</td>\n",
       "      <td>3</td>\n",
       "      <td>4</td>\n",
       "      <td>March</td>\n",
       "      <td>Saturday</td>\n",
       "    </tr>\n",
       "  </tbody>\n",
       "</table>\n",
       "</div>"
      ],
      "text/plain": [
       "   times User Name                                           Messages formats  \\\n",
       "0  11:12     sirji   Data bits (d)= 10110011) Find number of redun...      pm   \n",
       "1  11:13     sirji   2) Find hamming code 3) Verify from receiver ...      pm   \n",
       "2  11:15     sirji   Tomorrow we shall complete ethernet standards...      pm   \n",
       "3  11:52     sirji                                   Anyone online?\\n      pm   \n",
       "4  11:52     sirji           Please acknowledge if anyone is online\\n      pm   \n",
       "\n",
       "   year  moth  day month_name  day_name  \n",
       "0  2023     3    4      March  Saturday  \n",
       "1  2023     3    4      March  Saturday  \n",
       "2  2023     3    4      March  Saturday  \n",
       "3  2023     3    4      March  Saturday  \n",
       "4  2023     3    4      March  Saturday  "
      ]
     },
     "execution_count": 45,
     "metadata": {},
     "output_type": "execute_result"
    }
   ],
   "source": [
    "df.head()"
   ]
  },
  {
   "cell_type": "code",
   "execution_count": 74,
   "id": "20eca1ff",
   "metadata": {},
   "outputs": [],
   "source": [
    "for i in range(230):\n",
    "    df['Hours']=df['times'].str.split(':')[i][0]\n",
    "    df['Minutes']=df['times'].str.split(':')[i][1]"
   ]
  },
  {
   "cell_type": "code",
   "execution_count": 75,
   "id": "c6275619",
   "metadata": {},
   "outputs": [
    {
     "data": {
      "text/html": [
       "<div>\n",
       "<style scoped>\n",
       "    .dataframe tbody tr th:only-of-type {\n",
       "        vertical-align: middle;\n",
       "    }\n",
       "\n",
       "    .dataframe tbody tr th {\n",
       "        vertical-align: top;\n",
       "    }\n",
       "\n",
       "    .dataframe thead th {\n",
       "        text-align: right;\n",
       "    }\n",
       "</style>\n",
       "<table border=\"1\" class=\"dataframe\">\n",
       "  <thead>\n",
       "    <tr style=\"text-align: right;\">\n",
       "      <th></th>\n",
       "      <th>times</th>\n",
       "      <th>User Name</th>\n",
       "      <th>Messages</th>\n",
       "      <th>formats</th>\n",
       "      <th>year</th>\n",
       "      <th>moth</th>\n",
       "      <th>day</th>\n",
       "      <th>month_name</th>\n",
       "      <th>day_name</th>\n",
       "      <th>Hours</th>\n",
       "      <th>Minutes</th>\n",
       "    </tr>\n",
       "  </thead>\n",
       "  <tbody>\n",
       "    <tr>\n",
       "      <th>0</th>\n",
       "      <td>11:12</td>\n",
       "      <td>sirji</td>\n",
       "      <td>Data bits (d)= 10110011) Find number of redun...</td>\n",
       "      <td>pm</td>\n",
       "      <td>2023</td>\n",
       "      <td>3</td>\n",
       "      <td>4</td>\n",
       "      <td>March</td>\n",
       "      <td>Saturday</td>\n",
       "      <td>7</td>\n",
       "      <td>36</td>\n",
       "    </tr>\n",
       "    <tr>\n",
       "      <th>1</th>\n",
       "      <td>11:13</td>\n",
       "      <td>sirji</td>\n",
       "      <td>2) Find hamming code 3) Verify from receiver ...</td>\n",
       "      <td>pm</td>\n",
       "      <td>2023</td>\n",
       "      <td>3</td>\n",
       "      <td>4</td>\n",
       "      <td>March</td>\n",
       "      <td>Saturday</td>\n",
       "      <td>7</td>\n",
       "      <td>36</td>\n",
       "    </tr>\n",
       "    <tr>\n",
       "      <th>2</th>\n",
       "      <td>11:15</td>\n",
       "      <td>sirji</td>\n",
       "      <td>Tomorrow we shall complete ethernet standards...</td>\n",
       "      <td>pm</td>\n",
       "      <td>2023</td>\n",
       "      <td>3</td>\n",
       "      <td>4</td>\n",
       "      <td>March</td>\n",
       "      <td>Saturday</td>\n",
       "      <td>7</td>\n",
       "      <td>36</td>\n",
       "    </tr>\n",
       "    <tr>\n",
       "      <th>3</th>\n",
       "      <td>11:52</td>\n",
       "      <td>sirji</td>\n",
       "      <td>Anyone online?\\n</td>\n",
       "      <td>pm</td>\n",
       "      <td>2023</td>\n",
       "      <td>3</td>\n",
       "      <td>4</td>\n",
       "      <td>March</td>\n",
       "      <td>Saturday</td>\n",
       "      <td>7</td>\n",
       "      <td>36</td>\n",
       "    </tr>\n",
       "    <tr>\n",
       "      <th>4</th>\n",
       "      <td>11:52</td>\n",
       "      <td>sirji</td>\n",
       "      <td>Please acknowledge if anyone is online\\n</td>\n",
       "      <td>pm</td>\n",
       "      <td>2023</td>\n",
       "      <td>3</td>\n",
       "      <td>4</td>\n",
       "      <td>March</td>\n",
       "      <td>Saturday</td>\n",
       "      <td>7</td>\n",
       "      <td>36</td>\n",
       "    </tr>\n",
       "  </tbody>\n",
       "</table>\n",
       "</div>"
      ],
      "text/plain": [
       "   times User Name                                           Messages formats  \\\n",
       "0  11:12     sirji   Data bits (d)= 10110011) Find number of redun...      pm   \n",
       "1  11:13     sirji   2) Find hamming code 3) Verify from receiver ...      pm   \n",
       "2  11:15     sirji   Tomorrow we shall complete ethernet standards...      pm   \n",
       "3  11:52     sirji                                   Anyone online?\\n      pm   \n",
       "4  11:52     sirji           Please acknowledge if anyone is online\\n      pm   \n",
       "\n",
       "   year  moth  day month_name  day_name Hours Minutes  \n",
       "0  2023     3    4      March  Saturday     7      36  \n",
       "1  2023     3    4      March  Saturday     7      36  \n",
       "2  2023     3    4      March  Saturday     7      36  \n",
       "3  2023     3    4      March  Saturday     7      36  \n",
       "4  2023     3    4      March  Saturday     7      36  "
      ]
     },
     "execution_count": 75,
     "metadata": {},
     "output_type": "execute_result"
    }
   ],
   "source": [
    "df.head()"
   ]
  },
  {
   "cell_type": "code",
   "execution_count": 65,
   "id": "3c6e8b2f",
   "metadata": {},
   "outputs": [
    {
     "data": {
      "text/plain": [
       "'37'"
      ]
     },
     "execution_count": 65,
     "metadata": {},
     "output_type": "execute_result"
    }
   ],
   "source": [
    "df['times'].str.split(':')[230][1]"
   ]
  },
  {
   "cell_type": "code",
   "execution_count": 69,
   "id": "15159a20",
   "metadata": {},
   "outputs": [
    {
     "data": {
      "text/html": [
       "<div>\n",
       "<style scoped>\n",
       "    .dataframe tbody tr th:only-of-type {\n",
       "        vertical-align: middle;\n",
       "    }\n",
       "\n",
       "    .dataframe tbody tr th {\n",
       "        vertical-align: top;\n",
       "    }\n",
       "\n",
       "    .dataframe thead th {\n",
       "        text-align: right;\n",
       "    }\n",
       "</style>\n",
       "<table border=\"1\" class=\"dataframe\">\n",
       "  <thead>\n",
       "    <tr style=\"text-align: right;\">\n",
       "      <th></th>\n",
       "      <th>times</th>\n",
       "      <th>User Name</th>\n",
       "      <th>Messages</th>\n",
       "      <th>formats</th>\n",
       "      <th>year</th>\n",
       "      <th>moth</th>\n",
       "      <th>day</th>\n",
       "      <th>month_name</th>\n",
       "      <th>day_name</th>\n",
       "      <th>Hours</th>\n",
       "      <th>Minutes</th>\n",
       "    </tr>\n",
       "  </thead>\n",
       "  <tbody>\n",
       "    <tr>\n",
       "      <th>226</th>\n",
       "      <td>11:45</td>\n",
       "      <td>sirji</td>\n",
       "      <td>Question copy paste garda farak pardaina.\\n</td>\n",
       "      <td>pm</td>\n",
       "      <td>2023</td>\n",
       "      <td>8</td>\n",
       "      <td>7</td>\n",
       "      <td>August</td>\n",
       "      <td>Monday</td>\n",
       "      <td>7</td>\n",
       "      <td>36</td>\n",
       "    </tr>\n",
       "    <tr>\n",
       "      <th>227</th>\n",
       "      <td>11:46</td>\n",
       "      <td>sirji</td>\n",
       "      <td>I have explained every concepts of Lab 3 and ...</td>\n",
       "      <td>pm</td>\n",
       "      <td>2023</td>\n",
       "      <td>8</td>\n",
       "      <td>7</td>\n",
       "      <td>August</td>\n",
       "      <td>Monday</td>\n",
       "      <td>7</td>\n",
       "      <td>36</td>\n",
       "    </tr>\n",
       "    <tr>\n",
       "      <th>228</th>\n",
       "      <td>11:47</td>\n",
       "      <td>sirji</td>\n",
       "      <td>Above*\\n</td>\n",
       "      <td>pm</td>\n",
       "      <td>2023</td>\n",
       "      <td>8</td>\n",
       "      <td>7</td>\n",
       "      <td>August</td>\n",
       "      <td>Monday</td>\n",
       "      <td>7</td>\n",
       "      <td>36</td>\n",
       "    </tr>\n",
       "    <tr>\n",
       "      <th>229</th>\n",
       "      <td>7:36</td>\n",
       "      <td>Nisan</td>\n",
       "      <td>Ftp vlan rip\\n</td>\n",
       "      <td>am</td>\n",
       "      <td>2023</td>\n",
       "      <td>12</td>\n",
       "      <td>7</td>\n",
       "      <td>December</td>\n",
       "      <td>Thursday</td>\n",
       "      <td>7</td>\n",
       "      <td>36</td>\n",
       "    </tr>\n",
       "    <tr>\n",
       "      <th>230</th>\n",
       "      <td>7:37</td>\n",
       "      <td>Nisan</td>\n",
       "      <td>Basic routing config command\\n</td>\n",
       "      <td>am</td>\n",
       "      <td>2023</td>\n",
       "      <td>12</td>\n",
       "      <td>7</td>\n",
       "      <td>December</td>\n",
       "      <td>Thursday</td>\n",
       "      <td>7</td>\n",
       "      <td>36</td>\n",
       "    </tr>\n",
       "  </tbody>\n",
       "</table>\n",
       "</div>"
      ],
      "text/plain": [
       "     times User Name                                           Messages  \\\n",
       "226  11:45     sirji        Question copy paste garda farak pardaina.\\n   \n",
       "227  11:46     sirji   I have explained every concepts of Lab 3 and ...   \n",
       "228  11:47     sirji                                           Above*\\n   \n",
       "229   7:36     Nisan                                     Ftp vlan rip\\n   \n",
       "230   7:37     Nisan                     Basic routing config command\\n   \n",
       "\n",
       "    formats  year  moth  day month_name  day_name Hours Minutes  \n",
       "226      pm  2023     8    7     August    Monday     7      36  \n",
       "227      pm  2023     8    7     August    Monday     7      36  \n",
       "228      pm  2023     8    7     August    Monday     7      36  \n",
       "229      am  2023    12    7   December  Thursday     7      36  \n",
       "230      am  2023    12    7   December  Thursday     7      36  "
      ]
     },
     "execution_count": 69,
     "metadata": {},
     "output_type": "execute_result"
    }
   ],
   "source": [
    "df.tail()"
   ]
  },
  {
   "cell_type": "code",
   "execution_count": 66,
   "id": "ea123f58",
   "metadata": {},
   "outputs": [
    {
     "data": {
      "text/plain": [
       "(231, 11)"
      ]
     },
     "execution_count": 66,
     "metadata": {},
     "output_type": "execute_result"
    }
   ],
   "source": [
    "df.shape"
   ]
  },
  {
   "cell_type": "code",
   "execution_count": 77,
   "id": "33d0bdea",
   "metadata": {},
   "outputs": [
    {
     "name": "stdout",
     "output_type": "stream",
     "text": [
      " append suxessfully\n"
     ]
    }
   ],
   "source": [
    "# this code is runs sucessfully\n",
    "hours=[]\n",
    "minutes=[]\n",
    "for time_str in df['times']:\n",
    "    hour,minute=time_str.split(\":\")\n",
    "    hours.append(hour)\n",
    "    minutes.append(minute)\n",
    "print(\" append suxessfully\")"
   ]
  },
  {
   "cell_type": "code",
   "execution_count": 82,
   "id": "57b75b76",
   "metadata": {},
   "outputs": [
    {
     "data": {
      "text/plain": [
       "'37'"
      ]
     },
     "execution_count": 82,
     "metadata": {},
     "output_type": "execute_result"
    }
   ],
   "source": [
    "minutes[230]"
   ]
  },
  {
   "cell_type": "code",
   "execution_count": 83,
   "id": "7b568d03",
   "metadata": {},
   "outputs": [],
   "source": [
    "df['hour']=hours\n",
    "df['minutes']=minutes"
   ]
  },
  {
   "cell_type": "code",
   "execution_count": 84,
   "id": "ab885c87",
   "metadata": {},
   "outputs": [
    {
     "data": {
      "text/html": [
       "<div>\n",
       "<style scoped>\n",
       "    .dataframe tbody tr th:only-of-type {\n",
       "        vertical-align: middle;\n",
       "    }\n",
       "\n",
       "    .dataframe tbody tr th {\n",
       "        vertical-align: top;\n",
       "    }\n",
       "\n",
       "    .dataframe thead th {\n",
       "        text-align: right;\n",
       "    }\n",
       "</style>\n",
       "<table border=\"1\" class=\"dataframe\">\n",
       "  <thead>\n",
       "    <tr style=\"text-align: right;\">\n",
       "      <th></th>\n",
       "      <th>times</th>\n",
       "      <th>User Name</th>\n",
       "      <th>Messages</th>\n",
       "      <th>formats</th>\n",
       "      <th>year</th>\n",
       "      <th>moth</th>\n",
       "      <th>day</th>\n",
       "      <th>month_name</th>\n",
       "      <th>day_name</th>\n",
       "      <th>Hours</th>\n",
       "      <th>Minutes</th>\n",
       "      <th>hour</th>\n",
       "      <th>minutes</th>\n",
       "    </tr>\n",
       "  </thead>\n",
       "  <tbody>\n",
       "    <tr>\n",
       "      <th>0</th>\n",
       "      <td>11:12</td>\n",
       "      <td>sirji</td>\n",
       "      <td>Data bits (d)= 10110011) Find number of redun...</td>\n",
       "      <td>pm</td>\n",
       "      <td>2023</td>\n",
       "      <td>3</td>\n",
       "      <td>4</td>\n",
       "      <td>March</td>\n",
       "      <td>Saturday</td>\n",
       "      <td>7</td>\n",
       "      <td>36</td>\n",
       "      <td>11</td>\n",
       "      <td>12</td>\n",
       "    </tr>\n",
       "    <tr>\n",
       "      <th>1</th>\n",
       "      <td>11:13</td>\n",
       "      <td>sirji</td>\n",
       "      <td>2) Find hamming code 3) Verify from receiver ...</td>\n",
       "      <td>pm</td>\n",
       "      <td>2023</td>\n",
       "      <td>3</td>\n",
       "      <td>4</td>\n",
       "      <td>March</td>\n",
       "      <td>Saturday</td>\n",
       "      <td>7</td>\n",
       "      <td>36</td>\n",
       "      <td>11</td>\n",
       "      <td>13</td>\n",
       "    </tr>\n",
       "    <tr>\n",
       "      <th>2</th>\n",
       "      <td>11:15</td>\n",
       "      <td>sirji</td>\n",
       "      <td>Tomorrow we shall complete ethernet standards...</td>\n",
       "      <td>pm</td>\n",
       "      <td>2023</td>\n",
       "      <td>3</td>\n",
       "      <td>4</td>\n",
       "      <td>March</td>\n",
       "      <td>Saturday</td>\n",
       "      <td>7</td>\n",
       "      <td>36</td>\n",
       "      <td>11</td>\n",
       "      <td>15</td>\n",
       "    </tr>\n",
       "    <tr>\n",
       "      <th>3</th>\n",
       "      <td>11:52</td>\n",
       "      <td>sirji</td>\n",
       "      <td>Anyone online?\\n</td>\n",
       "      <td>pm</td>\n",
       "      <td>2023</td>\n",
       "      <td>3</td>\n",
       "      <td>4</td>\n",
       "      <td>March</td>\n",
       "      <td>Saturday</td>\n",
       "      <td>7</td>\n",
       "      <td>36</td>\n",
       "      <td>11</td>\n",
       "      <td>52</td>\n",
       "    </tr>\n",
       "    <tr>\n",
       "      <th>4</th>\n",
       "      <td>11:52</td>\n",
       "      <td>sirji</td>\n",
       "      <td>Please acknowledge if anyone is online\\n</td>\n",
       "      <td>pm</td>\n",
       "      <td>2023</td>\n",
       "      <td>3</td>\n",
       "      <td>4</td>\n",
       "      <td>March</td>\n",
       "      <td>Saturday</td>\n",
       "      <td>7</td>\n",
       "      <td>36</td>\n",
       "      <td>11</td>\n",
       "      <td>52</td>\n",
       "    </tr>\n",
       "  </tbody>\n",
       "</table>\n",
       "</div>"
      ],
      "text/plain": [
       "   times User Name                                           Messages formats  \\\n",
       "0  11:12     sirji   Data bits (d)= 10110011) Find number of redun...      pm   \n",
       "1  11:13     sirji   2) Find hamming code 3) Verify from receiver ...      pm   \n",
       "2  11:15     sirji   Tomorrow we shall complete ethernet standards...      pm   \n",
       "3  11:52     sirji                                   Anyone online?\\n      pm   \n",
       "4  11:52     sirji           Please acknowledge if anyone is online\\n      pm   \n",
       "\n",
       "   year  moth  day month_name  day_name Hours Minutes hour minutes  \n",
       "0  2023     3    4      March  Saturday     7      36   11      12  \n",
       "1  2023     3    4      March  Saturday     7      36   11      13  \n",
       "2  2023     3    4      March  Saturday     7      36   11      15  \n",
       "3  2023     3    4      March  Saturday     7      36   11      52  \n",
       "4  2023     3    4      March  Saturday     7      36   11      52  "
      ]
     },
     "execution_count": 84,
     "metadata": {},
     "output_type": "execute_result"
    }
   ],
   "source": [
    "df.head()"
   ]
  },
  {
   "cell_type": "code",
   "execution_count": 86,
   "id": "c7b860d9",
   "metadata": {},
   "outputs": [],
   "source": [
    "# if there is pm in our we have to convert into the 24 hours formats \n",
    "df.drop(columns=['Hours','Minutes'],inplace=True)"
   ]
  },
  {
   "cell_type": "code",
   "execution_count": 92,
   "id": "c7f4cb9b",
   "metadata": {},
   "outputs": [],
   "source": [
    "df['hour']=df['hour'].astype('int')"
   ]
  },
  {
   "cell_type": "code",
   "execution_count": 90,
   "id": "3d5664eb",
   "metadata": {},
   "outputs": [
    {
     "name": "stdout",
     "output_type": "stream",
     "text": [
      "<class 'pandas.core.frame.DataFrame'>\n",
      "RangeIndex: 231 entries, 0 to 230\n",
      "Data columns (total 11 columns):\n",
      " #   Column      Non-Null Count  Dtype \n",
      "---  ------      --------------  ----- \n",
      " 0   times       231 non-null    object\n",
      " 1   User Name   231 non-null    object\n",
      " 2   Messages    231 non-null    object\n",
      " 3   formats     231 non-null    object\n",
      " 4   year        231 non-null    int32 \n",
      " 5   moth        231 non-null    int32 \n",
      " 6   day         231 non-null    int32 \n",
      " 7   month_name  231 non-null    object\n",
      " 8   day_name    231 non-null    object\n",
      " 9   hour        231 non-null    int32 \n",
      " 10  minutes     231 non-null    object\n",
      "dtypes: int32(4), object(7)\n",
      "memory usage: 16.4+ KB\n"
     ]
    }
   ],
   "source": [
    "df.info()"
   ]
  },
  {
   "cell_type": "code",
   "execution_count": 122,
   "id": "17a043fe",
   "metadata": {},
   "outputs": [
    {
     "data": {
      "text/html": [
       "<div>\n",
       "<style scoped>\n",
       "    .dataframe tbody tr th:only-of-type {\n",
       "        vertical-align: middle;\n",
       "    }\n",
       "\n",
       "    .dataframe tbody tr th {\n",
       "        vertical-align: top;\n",
       "    }\n",
       "\n",
       "    .dataframe thead th {\n",
       "        text-align: right;\n",
       "    }\n",
       "</style>\n",
       "<table border=\"1\" class=\"dataframe\">\n",
       "  <thead>\n",
       "    <tr style=\"text-align: right;\">\n",
       "      <th></th>\n",
       "      <th>times</th>\n",
       "      <th>User Name</th>\n",
       "      <th>Messages</th>\n",
       "      <th>formats</th>\n",
       "      <th>year</th>\n",
       "      <th>moth</th>\n",
       "      <th>day</th>\n",
       "      <th>month_name</th>\n",
       "      <th>day_name</th>\n",
       "      <th>hour</th>\n",
       "      <th>minutes</th>\n",
       "    </tr>\n",
       "  </thead>\n",
       "  <tbody>\n",
       "    <tr>\n",
       "      <th>0</th>\n",
       "      <td>11:12</td>\n",
       "      <td>sirji</td>\n",
       "      <td>Data bits (d)= 10110011) Find number of redun...</td>\n",
       "      <td>pm</td>\n",
       "      <td>2023</td>\n",
       "      <td>3</td>\n",
       "      <td>4</td>\n",
       "      <td>March</td>\n",
       "      <td>Saturday</td>\n",
       "      <td>11</td>\n",
       "      <td>12</td>\n",
       "    </tr>\n",
       "    <tr>\n",
       "      <th>1</th>\n",
       "      <td>11:13</td>\n",
       "      <td>sirji</td>\n",
       "      <td>2) Find hamming code 3) Verify from receiver ...</td>\n",
       "      <td>pm</td>\n",
       "      <td>2023</td>\n",
       "      <td>3</td>\n",
       "      <td>4</td>\n",
       "      <td>March</td>\n",
       "      <td>Saturday</td>\n",
       "      <td>11</td>\n",
       "      <td>13</td>\n",
       "    </tr>\n",
       "    <tr>\n",
       "      <th>2</th>\n",
       "      <td>11:15</td>\n",
       "      <td>sirji</td>\n",
       "      <td>Tomorrow we shall complete ethernet standards...</td>\n",
       "      <td>pm</td>\n",
       "      <td>2023</td>\n",
       "      <td>3</td>\n",
       "      <td>4</td>\n",
       "      <td>March</td>\n",
       "      <td>Saturday</td>\n",
       "      <td>11</td>\n",
       "      <td>15</td>\n",
       "    </tr>\n",
       "    <tr>\n",
       "      <th>3</th>\n",
       "      <td>11:52</td>\n",
       "      <td>sirji</td>\n",
       "      <td>Anyone online?\\n</td>\n",
       "      <td>pm</td>\n",
       "      <td>2023</td>\n",
       "      <td>3</td>\n",
       "      <td>4</td>\n",
       "      <td>March</td>\n",
       "      <td>Saturday</td>\n",
       "      <td>11</td>\n",
       "      <td>52</td>\n",
       "    </tr>\n",
       "    <tr>\n",
       "      <th>4</th>\n",
       "      <td>11:52</td>\n",
       "      <td>sirji</td>\n",
       "      <td>Please acknowledge if anyone is online\\n</td>\n",
       "      <td>pm</td>\n",
       "      <td>2023</td>\n",
       "      <td>3</td>\n",
       "      <td>4</td>\n",
       "      <td>March</td>\n",
       "      <td>Saturday</td>\n",
       "      <td>11</td>\n",
       "      <td>52</td>\n",
       "    </tr>\n",
       "  </tbody>\n",
       "</table>\n",
       "</div>"
      ],
      "text/plain": [
       "   times User Name                                           Messages formats  \\\n",
       "0  11:12     sirji   Data bits (d)= 10110011) Find number of redun...      pm   \n",
       "1  11:13     sirji   2) Find hamming code 3) Verify from receiver ...      pm   \n",
       "2  11:15     sirji   Tomorrow we shall complete ethernet standards...      pm   \n",
       "3  11:52     sirji                                   Anyone online?\\n      pm   \n",
       "4  11:52     sirji           Please acknowledge if anyone is online\\n      pm   \n",
       "\n",
       "   year  moth  day month_name  day_name  hour minutes  \n",
       "0  2023     3    4      March  Saturday    11      12  \n",
       "1  2023     3    4      March  Saturday    11      13  \n",
       "2  2023     3    4      March  Saturday    11      15  \n",
       "3  2023     3    4      March  Saturday    11      52  \n",
       "4  2023     3    4      March  Saturday    11      52  "
      ]
     },
     "execution_count": 122,
     "metadata": {},
     "output_type": "execute_result"
    }
   ],
   "source": [
    "df.head()"
   ]
  },
  {
   "cell_type": "markdown",
   "id": "bcf44305",
   "metadata": {},
   "source": [
    "# plot the graph of date formats of am and pm"
   ]
  },
  {
   "cell_type": "code",
   "execution_count": 123,
   "id": "ceaadf24",
   "metadata": {},
   "outputs": [
    {
     "data": {
      "text/plain": [
       "formats\n",
       "pm    204\n",
       "am     27\n",
       "Name: count, dtype: int64"
      ]
     },
     "execution_count": 123,
     "metadata": {},
     "output_type": "execute_result"
    }
   ],
   "source": [
    "df['formats'].value_counts()"
   ]
  },
  {
   "cell_type": "code",
   "execution_count": 124,
   "id": "fc682fd5",
   "metadata": {},
   "outputs": [
    {
     "data": {
      "text/plain": [
       "<AxesSubplot:xlabel='formats'>"
      ]
     },
     "execution_count": 124,
     "metadata": {},
     "output_type": "execute_result"
    },
    {
     "data": {
      "image/png": "[encoded data removed]",
      "text/plain": [
       "<Figure size 640x480 with 1 Axes>"
      ]
     },
     "metadata": {},
     "output_type": "display_data"
    }
   ],
   "source": [
    "df['formats'].value_counts().plot(kind='bar')"
   ]
  },
  {
   "cell_type": "code",
   "execution_count": 127,
   "id": "19ef3992",
   "metadata": {},
   "outputs": [
    {
     "data": {
      "text/plain": [
       "month_name\n",
       "May          159\n",
       "April         21\n",
       "February      14\n",
       "September     12\n",
       "August        12\n",
       "March          7\n",
       "July           3\n",
       "December       2\n",
       "November       1\n",
       "Name: count, dtype: int64"
      ]
     },
     "execution_count": 127,
     "metadata": {},
     "output_type": "execute_result"
    }
   ],
   "source": [
    "# chat with respect toe the months \n",
    "df['month_name'].value_counts().sort_values(ascending=False)"
   ]
  },
  {
   "cell_type": "code",
   "execution_count": 128,
   "id": "4ba1bc6f",
   "metadata": {},
   "outputs": [
    {
     "data": {
      "text/plain": [
       "<AxesSubplot:xlabel='month_name'>"
      ]
     },
     "execution_count": 128,
     "metadata": {},
     "output_type": "execute_result"
    },
    {
     "data": {
      "image/png": "[encoded data removed]",
      "text/plain": [
       "<Figure size 640x480 with 1 Axes>"
      ]
     },
     "metadata": {},
     "output_type": "display_data"
    }
   ],
   "source": [
    "# plot in the graphs\n",
    "df['month_name'].value_counts().sort_values(ascending=False).plot(kind='bar')"
   ]
  },
  {
   "cell_type": "code",
   "execution_count": 129,
   "id": "b9af0d65",
   "metadata": {},
   "outputs": [
    {
     "data": {
      "text/plain": [
       "day_name\n",
       "Saturday     97\n",
       "Wednesday    41\n",
       "Monday       38\n",
       "Sunday       29\n",
       "Tuesday      21\n",
       "Thursday      4\n",
       "Friday        1\n",
       "Name: count, dtype: int64"
      ]
     },
     "execution_count": 129,
     "metadata": {},
     "output_type": "execute_result"
    }
   ],
   "source": [
    "# which day the macim,um charts occured\n",
    "df['day_name'].value_counts()"
   ]
  },
  {
   "cell_type": "code",
   "execution_count": 130,
   "id": "7004c8ca",
   "metadata": {},
   "outputs": [
    {
     "data": {
      "text/plain": [
       "<AxesSubplot:xlabel='day_name'>"
      ]
     },
     "execution_count": 130,
     "metadata": {},
     "output_type": "execute_result"
    },
    {
     "data": {
      "image/png": "[encoded data removed]",
      "text/plain": [
       "<Figure size 640x480 with 1 Axes>"
      ]
     },
     "metadata": {},
     "output_type": "display_data"
    }
   ],
   "source": [
    "# plots in the bar charts \n",
    "df['day_name'].value_counts().plot(kind='bar')"
   ]
  },
  {
   "cell_type": "code",
   "execution_count": 141,
   "id": "0e63a65c",
   "metadata": {},
   "outputs": [
    {
     "data": {
      "text/plain": [
       "formats\n",
       "am     27\n",
       "pm    204\n",
       "Name: hour, dtype: int64"
      ]
     },
     "execution_count": 141,
     "metadata": {},
     "output_type": "execute_result"
    }
   ],
   "source": [
    "# in which time there is peak messages \n",
    "import matplotlib.pyplot as plt\n",
    "df.groupby(['formats'])['hour'].count()"
   ]
  },
  {
   "cell_type": "code",
   "execution_count": 148,
   "id": "4adf1692",
   "metadata": {},
   "outputs": [
    {
     "data": {
      "text/plain": [
       "month_name  day_name   formats\n",
       "April       Saturday   pm          3\n",
       "            Tuesday    am         16\n",
       "                       pm          2\n",
       "August      Monday     pm         10\n",
       "            Saturday   am          2\n",
       "December    Thursday   am          2\n",
       "February    Sunday     pm         14\n",
       "July        Wednesday  pm          3\n",
       "March       Saturday   pm          7\n",
       "May         Friday     am          1\n",
       "            Monday     am          2\n",
       "                       pm         17\n",
       "            Saturday   pm         84\n",
       "            Sunday     pm         15\n",
       "            Thursday   pm          2\n",
       "            Wednesday  pm         38\n",
       "November    Saturday   am          1\n",
       "September   Monday     pm          9\n",
       "            Tuesday    am          3\n",
       "Name: Messages, dtype: int64"
      ]
     },
     "execution_count": 148,
     "metadata": {},
     "output_type": "execute_result"
    }
   ],
   "source": [
    "df.groupby(['month_name','day_name','formats']).count()['Messages']"
   ]
  },
  {
   "cell_type": "code",
   "execution_count": 151,
   "id": "b901d7c2",
   "metadata": {},
   "outputs": [
    {
     "data": {
      "text/html": [
       "<div>\n",
       "<style scoped>\n",
       "    .dataframe tbody tr th:only-of-type {\n",
       "        vertical-align: middle;\n",
       "    }\n",
       "\n",
       "    .dataframe tbody tr th {\n",
       "        vertical-align: top;\n",
       "    }\n",
       "\n",
       "    .dataframe thead th {\n",
       "        text-align: right;\n",
       "    }\n",
       "</style>\n",
       "<table border=\"1\" class=\"dataframe\">\n",
       "  <thead>\n",
       "    <tr style=\"text-align: right;\">\n",
       "      <th></th>\n",
       "      <th>month_name</th>\n",
       "      <th>day_name</th>\n",
       "      <th>formats</th>\n",
       "      <th>Messages</th>\n",
       "    </tr>\n",
       "  </thead>\n",
       "  <tbody>\n",
       "    <tr>\n",
       "      <th>0</th>\n",
       "      <td>April</td>\n",
       "      <td>Saturday</td>\n",
       "      <td>pm</td>\n",
       "      <td>3</td>\n",
       "    </tr>\n",
       "    <tr>\n",
       "      <th>1</th>\n",
       "      <td>April</td>\n",
       "      <td>Tuesday</td>\n",
       "      <td>am</td>\n",
       "      <td>16</td>\n",
       "    </tr>\n",
       "    <tr>\n",
       "      <th>2</th>\n",
       "      <td>April</td>\n",
       "      <td>Tuesday</td>\n",
       "      <td>pm</td>\n",
       "      <td>2</td>\n",
       "    </tr>\n",
       "    <tr>\n",
       "      <th>3</th>\n",
       "      <td>August</td>\n",
       "      <td>Monday</td>\n",
       "      <td>pm</td>\n",
       "      <td>10</td>\n",
       "    </tr>\n",
       "    <tr>\n",
       "      <th>4</th>\n",
       "      <td>August</td>\n",
       "      <td>Saturday</td>\n",
       "      <td>am</td>\n",
       "      <td>2</td>\n",
       "    </tr>\n",
       "    <tr>\n",
       "      <th>5</th>\n",
       "      <td>December</td>\n",
       "      <td>Thursday</td>\n",
       "      <td>am</td>\n",
       "      <td>2</td>\n",
       "    </tr>\n",
       "    <tr>\n",
       "      <th>6</th>\n",
       "      <td>February</td>\n",
       "      <td>Sunday</td>\n",
       "      <td>pm</td>\n",
       "      <td>14</td>\n",
       "    </tr>\n",
       "    <tr>\n",
       "      <th>7</th>\n",
       "      <td>July</td>\n",
       "      <td>Wednesday</td>\n",
       "      <td>pm</td>\n",
       "      <td>3</td>\n",
       "    </tr>\n",
       "    <tr>\n",
       "      <th>8</th>\n",
       "      <td>March</td>\n",
       "      <td>Saturday</td>\n",
       "      <td>pm</td>\n",
       "      <td>7</td>\n",
       "    </tr>\n",
       "    <tr>\n",
       "      <th>9</th>\n",
       "      <td>May</td>\n",
       "      <td>Friday</td>\n",
       "      <td>am</td>\n",
       "      <td>1</td>\n",
       "    </tr>\n",
       "    <tr>\n",
       "      <th>10</th>\n",
       "      <td>May</td>\n",
       "      <td>Monday</td>\n",
       "      <td>am</td>\n",
       "      <td>2</td>\n",
       "    </tr>\n",
       "    <tr>\n",
       "      <th>11</th>\n",
       "      <td>May</td>\n",
       "      <td>Monday</td>\n",
       "      <td>pm</td>\n",
       "      <td>17</td>\n",
       "    </tr>\n",
       "    <tr>\n",
       "      <th>12</th>\n",
       "      <td>May</td>\n",
       "      <td>Saturday</td>\n",
       "      <td>pm</td>\n",
       "      <td>84</td>\n",
       "    </tr>\n",
       "    <tr>\n",
       "      <th>13</th>\n",
       "      <td>May</td>\n",
       "      <td>Sunday</td>\n",
       "      <td>pm</td>\n",
       "      <td>15</td>\n",
       "    </tr>\n",
       "    <tr>\n",
       "      <th>14</th>\n",
       "      <td>May</td>\n",
       "      <td>Thursday</td>\n",
       "      <td>pm</td>\n",
       "      <td>2</td>\n",
       "    </tr>\n",
       "    <tr>\n",
       "      <th>15</th>\n",
       "      <td>May</td>\n",
       "      <td>Wednesday</td>\n",
       "      <td>pm</td>\n",
       "      <td>38</td>\n",
       "    </tr>\n",
       "    <tr>\n",
       "      <th>16</th>\n",
       "      <td>November</td>\n",
       "      <td>Saturday</td>\n",
       "      <td>am</td>\n",
       "      <td>1</td>\n",
       "    </tr>\n",
       "    <tr>\n",
       "      <th>17</th>\n",
       "      <td>September</td>\n",
       "      <td>Monday</td>\n",
       "      <td>pm</td>\n",
       "      <td>9</td>\n",
       "    </tr>\n",
       "    <tr>\n",
       "      <th>18</th>\n",
       "      <td>September</td>\n",
       "      <td>Tuesday</td>\n",
       "      <td>am</td>\n",
       "      <td>3</td>\n",
       "    </tr>\n",
       "  </tbody>\n",
       "</table>\n",
       "</div>"
      ],
      "text/plain": [
       "   month_name   day_name formats  Messages\n",
       "0       April   Saturday      pm         3\n",
       "1       April    Tuesday      am        16\n",
       "2       April    Tuesday      pm         2\n",
       "3      August     Monday      pm        10\n",
       "4      August   Saturday      am         2\n",
       "5    December   Thursday      am         2\n",
       "6    February     Sunday      pm        14\n",
       "7        July  Wednesday      pm         3\n",
       "8       March   Saturday      pm         7\n",
       "9         May     Friday      am         1\n",
       "10        May     Monday      am         2\n",
       "11        May     Monday      pm        17\n",
       "12        May   Saturday      pm        84\n",
       "13        May     Sunday      pm        15\n",
       "14        May   Thursday      pm         2\n",
       "15        May  Wednesday      pm        38\n",
       "16   November   Saturday      am         1\n",
       "17  September     Monday      pm         9\n",
       "18  September    Tuesday      am         3"
      ]
     },
     "execution_count": 151,
     "metadata": {},
     "output_type": "execute_result"
    }
   ],
   "source": [
    "groups=df.groupby(['month_name','day_name','formats']).count()['Messages'].reset_index()\n",
    "groups"
   ]
  },
  {
   "cell_type": "code",
   "execution_count": 154,
   "id": "ed68c9d4",
   "metadata": {},
   "outputs": [
    {
     "data": {
      "text/plain": [
       "<AxesSubplot:xlabel='day_name', ylabel='Messages'>"
      ]
     },
     "execution_count": 154,
     "metadata": {},
     "output_type": "execute_result"
    },
    {
     "data": {
      "image/png": "[encoded data removed]",
      "text/plain": [
       "<Figure size 640x480 with 1 Axes>"
      ]
     },
     "metadata": {},
     "output_type": "display_data"
    }
   ],
   "source": [
    "# message based on the am pm \n",
    "sns.barplot(x='day_name',y='Messages',data=groups,hue='formats')"
   ]
  },
  {
   "cell_type": "code",
   "execution_count": 163,
   "id": "b7ed8ac2",
   "metadata": {},
   "outputs": [
    {
     "data": {
      "text/plain": [
       "29"
      ]
     },
     "execution_count": 163,
     "metadata": {},
     "output_type": "execute_result"
    }
   ],
   "source": [
    "len(df[(df['formats']=='pm')&(df['day_name']=='Sunday')])"
   ]
  },
  {
   "cell_type": "code",
   "execution_count": 171,
   "id": "25c7f83a",
   "metadata": {},
   "outputs": [
    {
     "data": {
      "text/plain": [
       "month_name\n",
       "April         21\n",
       "August        12\n",
       "December       2\n",
       "February      14\n",
       "July           3\n",
       "March          7\n",
       "May          159\n",
       "November       1\n",
       "September     12\n",
       "Name: Messages, dtype: int64"
      ]
     },
     "execution_count": 171,
     "metadata": {},
     "output_type": "execute_result"
    }
   ],
   "source": [
    "groups.groupby('month_name')['Messages'].sum()"
   ]
  },
  {
   "cell_type": "code",
   "execution_count": 178,
   "id": "64a569d8",
   "metadata": {},
   "outputs": [
    {
     "data": {
      "image/png": "[encoded data removed]",
      "text/plain": [
       "<Figure size 640x480 with 1 Axes>"
      ]
     },
     "metadata": {},
     "output_type": "display_data"
    }
   ],
   "source": [
    "# number of messge with respect to the months \n",
    "groups.groupby('month_name')['Messages'].sum().plot(marker='<',color='green')\n",
    "plt.xticks(rotation='vertical')\n",
    "plt.show()"
   ]
  },
  {
   "cell_type": "code",
   "execution_count": 176,
   "id": "9ea77979",
   "metadata": {},
   "outputs": [
    {
     "data": {
      "text/plain": [
       "12"
      ]
     },
     "execution_count": 176,
     "metadata": {},
     "output_type": "execute_result"
    }
   ],
   "source": [
    "len(df[df['month_name']=='September'])"
   ]
  },
  {
   "cell_type": "markdown",
   "id": "e4b90a10",
   "metadata": {},
   "source": [
    "# message analysis wioth respect to the individual "
   ]
  },
  {
   "cell_type": "code",
   "execution_count": 187,
   "id": "11355466",
   "metadata": {},
   "outputs": [
    {
     "data": {
      "image/png": "[encoded data removed]",
      "text/plain": [
       "<Figure size 640x480 with 1 Axes>"
      ]
     },
     "metadata": {},
     "output_type": "display_data"
    }
   ],
   "source": [
    "def persons(name):\n",
    "    temp_df=df[df['User Name']==name]\n",
    "    temp_group=temp_df.groupby(['month_name','day_name','formats']).count()['Messages'].reset_index()\n",
    "    temp_group.groupby('month_name')['Messages'].sum().plot(marker='<',color='green')\n",
    "    plt.xticks(rotation='vertical')\n",
    "    plt.show()\n",
    "persons('Nisan')"
   ]
  },
  {
   "cell_type": "code",
   "execution_count": 182,
   "id": "325123b1",
   "metadata": {},
   "outputs": [
    {
     "data": {
      "text/html": [
       "<div>\n",
       "<style scoped>\n",
       "    .dataframe tbody tr th:only-of-type {\n",
       "        vertical-align: middle;\n",
       "    }\n",
       "\n",
       "    .dataframe tbody tr th {\n",
       "        vertical-align: top;\n",
       "    }\n",
       "\n",
       "    .dataframe thead th {\n",
       "        text-align: right;\n",
       "    }\n",
       "</style>\n",
       "<table border=\"1\" class=\"dataframe\">\n",
       "  <thead>\n",
       "    <tr style=\"text-align: right;\">\n",
       "      <th></th>\n",
       "      <th>times</th>\n",
       "      <th>User Name</th>\n",
       "      <th>Messages</th>\n",
       "      <th>formats</th>\n",
       "      <th>year</th>\n",
       "      <th>moth</th>\n",
       "      <th>day</th>\n",
       "      <th>month_name</th>\n",
       "      <th>day_name</th>\n",
       "      <th>hour</th>\n",
       "      <th>minutes</th>\n",
       "    </tr>\n",
       "  </thead>\n",
       "  <tbody>\n",
       "    <tr>\n",
       "      <th>125</th>\n",
       "      <td>10:43</td>\n",
       "      <td>sirji</td>\n",
       "      <td>&lt;Media omitted&gt;\\n</td>\n",
       "      <td>pm</td>\n",
       "      <td>2023</td>\n",
       "      <td>5</td>\n",
       "      <td>20</td>\n",
       "      <td>May</td>\n",
       "      <td>Saturday</td>\n",
       "      <td>10</td>\n",
       "      <td>43</td>\n",
       "    </tr>\n",
       "    <tr>\n",
       "      <th>164</th>\n",
       "      <td>8:36</td>\n",
       "      <td>Nisan</td>\n",
       "      <td>Bholi public holiday\\n</td>\n",
       "      <td>pm</td>\n",
       "      <td>2023</td>\n",
       "      <td>5</td>\n",
       "      <td>24</td>\n",
       "      <td>May</td>\n",
       "      <td>Wednesday</td>\n",
       "      <td>8</td>\n",
       "      <td>36</td>\n",
       "    </tr>\n",
       "    <tr>\n",
       "      <th>83</th>\n",
       "      <td>1:11</td>\n",
       "      <td>Prasansha Ojha</td>\n",
       "      <td>Huss ekdin ma sakyena bhane arko din continue...</td>\n",
       "      <td>pm</td>\n",
       "      <td>2023</td>\n",
       "      <td>5</td>\n",
       "      <td>20</td>\n",
       "      <td>May</td>\n",
       "      <td>Saturday</td>\n",
       "      <td>1</td>\n",
       "      <td>11</td>\n",
       "    </tr>\n",
       "    <tr>\n",
       "      <th>10</th>\n",
       "      <td>12:06</td>\n",
       "      <td>sirji</td>\n",
       "      <td>sudo apt install wireshark\\n</td>\n",
       "      <td>am</td>\n",
       "      <td>2023</td>\n",
       "      <td>4</td>\n",
       "      <td>4</td>\n",
       "      <td>April</td>\n",
       "      <td>Tuesday</td>\n",
       "      <td>12</td>\n",
       "      <td>06</td>\n",
       "    </tr>\n",
       "  </tbody>\n",
       "</table>\n",
       "</div>"
      ],
      "text/plain": [
       "     times       User Name                                           Messages  \\\n",
       "125  10:43           sirji                                  <Media omitted>\\n   \n",
       "164   8:36           Nisan                             Bholi public holiday\\n   \n",
       "83    1:11  Prasansha Ojha   Huss ekdin ma sakyena bhane arko din continue...   \n",
       "10   12:06           sirji                       sudo apt install wireshark\\n   \n",
       "\n",
       "    formats  year  moth  day month_name   day_name  hour minutes  \n",
       "125      pm  2023     5   20        May   Saturday    10      43  \n",
       "164      pm  2023     5   24        May  Wednesday     8      36  \n",
       "83       pm  2023     5   20        May   Saturday     1      11  \n",
       "10       am  2023     4    4      April    Tuesday    12      06  "
      ]
     },
     "execution_count": 182,
     "metadata": {},
     "output_type": "execute_result"
    }
   ],
   "source": [
    "df.sample(4)"
   ]
  },
  {
   "cell_type": "code",
   "execution_count": 200,
   "id": "4ecd5b29",
   "metadata": {},
   "outputs": [
    {
     "data": {
      "text/plain": [
       "hour\n",
       "1     32\n",
       "2      1\n",
       "4      2\n",
       "6      1\n",
       "7      7\n",
       "8     37\n",
       "9     52\n",
       "10    31\n",
       "11    50\n",
       "12    18\n",
       "Name: Messages, dtype: int64"
      ]
     },
     "execution_count": 200,
     "metadata": {},
     "output_type": "execute_result"
    }
   ],
   "source": [
    "df.groupby('hour').count()['Messages']"
   ]
  },
  {
   "cell_type": "code",
   "execution_count": 208,
   "id": "4c19c99e",
   "metadata": {},
   "outputs": [
    {
     "data": {
      "image/png": "[encoded data removed]",
      "text/plain": [
       "<Figure size 1200x500 with 1 Axes>"
      ]
     },
     "metadata": {},
     "output_type": "display_data"
    }
   ],
   "source": [
    "plt.figure(figsize=(12,5))\n",
    "df.groupby('hour').count()['Messages'].plot(grid=True,marker='*',color='green',linewidth=2.5,markersize=10)\n",
    "plt.title(\"No of message vs time\")\n",
    "plt.ylabel(\"no of message \")\n",
    "plt.show()"
   ]
  },
  {
   "cell_type": "code",
   "execution_count": 204,
   "id": "77526e18",
   "metadata": {},
   "outputs": [
    {
     "name": "stdout",
     "output_type": "stream",
     "text": [
      " chamnges sucessfully\n"
     ]
    }
   ],
   "source": [
    "# data changes badsed on the filterings \n",
    "# df.loc[df['formats'] =='pm', 'hour'] = df['hour']-12\n",
    "print(\" chamnges sucessfully\")"
   ]
  },
  {
   "cell_type": "code",
   "execution_count": 205,
   "id": "bba94fe9",
   "metadata": {},
   "outputs": [
    {
     "data": {
      "text/html": [
       "<div>\n",
       "<style scoped>\n",
       "    .dataframe tbody tr th:only-of-type {\n",
       "        vertical-align: middle;\n",
       "    }\n",
       "\n",
       "    .dataframe tbody tr th {\n",
       "        vertical-align: top;\n",
       "    }\n",
       "\n",
       "    .dataframe thead th {\n",
       "        text-align: right;\n",
       "    }\n",
       "</style>\n",
       "<table border=\"1\" class=\"dataframe\">\n",
       "  <thead>\n",
       "    <tr style=\"text-align: right;\">\n",
       "      <th></th>\n",
       "      <th>times</th>\n",
       "      <th>User Name</th>\n",
       "      <th>Messages</th>\n",
       "      <th>formats</th>\n",
       "      <th>year</th>\n",
       "      <th>moth</th>\n",
       "      <th>day</th>\n",
       "      <th>month_name</th>\n",
       "      <th>day_name</th>\n",
       "      <th>hour</th>\n",
       "      <th>minutes</th>\n",
       "    </tr>\n",
       "  </thead>\n",
       "  <tbody>\n",
       "    <tr>\n",
       "      <th>0</th>\n",
       "      <td>11:12</td>\n",
       "      <td>sirji</td>\n",
       "      <td>Data bits (d)= 10110011) Find number of redun...</td>\n",
       "      <td>pm</td>\n",
       "      <td>2023</td>\n",
       "      <td>3</td>\n",
       "      <td>4</td>\n",
       "      <td>March</td>\n",
       "      <td>Saturday</td>\n",
       "      <td>23</td>\n",
       "      <td>12</td>\n",
       "    </tr>\n",
       "    <tr>\n",
       "      <th>1</th>\n",
       "      <td>11:13</td>\n",
       "      <td>sirji</td>\n",
       "      <td>2) Find hamming code 3) Verify from receiver ...</td>\n",
       "      <td>pm</td>\n",
       "      <td>2023</td>\n",
       "      <td>3</td>\n",
       "      <td>4</td>\n",
       "      <td>March</td>\n",
       "      <td>Saturday</td>\n",
       "      <td>23</td>\n",
       "      <td>13</td>\n",
       "    </tr>\n",
       "    <tr>\n",
       "      <th>2</th>\n",
       "      <td>11:15</td>\n",
       "      <td>sirji</td>\n",
       "      <td>Tomorrow we shall complete ethernet standards...</td>\n",
       "      <td>pm</td>\n",
       "      <td>2023</td>\n",
       "      <td>3</td>\n",
       "      <td>4</td>\n",
       "      <td>March</td>\n",
       "      <td>Saturday</td>\n",
       "      <td>23</td>\n",
       "      <td>15</td>\n",
       "    </tr>\n",
       "    <tr>\n",
       "      <th>3</th>\n",
       "      <td>11:52</td>\n",
       "      <td>sirji</td>\n",
       "      <td>Anyone online?\\n</td>\n",
       "      <td>pm</td>\n",
       "      <td>2023</td>\n",
       "      <td>3</td>\n",
       "      <td>4</td>\n",
       "      <td>March</td>\n",
       "      <td>Saturday</td>\n",
       "      <td>23</td>\n",
       "      <td>52</td>\n",
       "    </tr>\n",
       "    <tr>\n",
       "      <th>4</th>\n",
       "      <td>11:52</td>\n",
       "      <td>sirji</td>\n",
       "      <td>Please acknowledge if anyone is online\\n</td>\n",
       "      <td>pm</td>\n",
       "      <td>2023</td>\n",
       "      <td>3</td>\n",
       "      <td>4</td>\n",
       "      <td>March</td>\n",
       "      <td>Saturday</td>\n",
       "      <td>23</td>\n",
       "      <td>52</td>\n",
       "    </tr>\n",
       "  </tbody>\n",
       "</table>\n",
       "</div>"
      ],
      "text/plain": [
       "   times User Name                                           Messages formats  \\\n",
       "0  11:12     sirji   Data bits (d)= 10110011) Find number of redun...      pm   \n",
       "1  11:13     sirji   2) Find hamming code 3) Verify from receiver ...      pm   \n",
       "2  11:15     sirji   Tomorrow we shall complete ethernet standards...      pm   \n",
       "3  11:52     sirji                                   Anyone online?\\n      pm   \n",
       "4  11:52     sirji           Please acknowledge if anyone is online\\n      pm   \n",
       "\n",
       "   year  moth  day month_name  day_name  hour minutes  \n",
       "0  2023     3    4      March  Saturday    23      12  \n",
       "1  2023     3    4      March  Saturday    23      13  \n",
       "2  2023     3    4      March  Saturday    23      15  \n",
       "3  2023     3    4      March  Saturday    23      52  \n",
       "4  2023     3    4      March  Saturday    23      52  "
      ]
     },
     "execution_count": 205,
     "metadata": {},
     "output_type": "execute_result"
    }
   ],
   "source": [
    "df.head()"
   ]
  },
  {
   "cell_type": "code",
   "execution_count": 211,
   "id": "ab2b6b8c",
   "metadata": {},
   "outputs": [
    {
     "data": {
      "image/png": "[encoded data removed]",
      "text/plain": [
       "<Figure size 1200x500 with 1 Axes>"
      ]
     },
     "metadata": {},
     "output_type": "display_data"
    }
   ],
   "source": [
    "# based on the minutes\n",
    "plt.figure(figsize=(12,5))\n",
    "df.groupby('minutes').count()['Messages'].plot(grid=True,marker='*',color='green',linewidth=2.5,markersize=10)\n",
    "plt.title(\"No of message vs time\")\n",
    "plt.ylabel(\"no of message \")\n",
    "plt.show()"
   ]
  },
  {
   "cell_type": "markdown",
   "id": "c6719e84",
   "metadata": {},
   "source": [
    "# show the data in the heatmaps"
   ]
  },
  {
   "cell_type": "code",
   "execution_count": 215,
   "id": "9803c554",
   "metadata": {},
   "outputs": [
    {
     "name": "stdout",
     "output_type": "stream",
     "text": [
      " sucessfully\n"
     ]
    }
   ],
   "source": [
    "periods=[]\n",
    "for hour in df['hour']:\n",
    "    if hour==23:\n",
    "        periods.append(str(hour)+'-'+str('00'))\n",
    "    elif hour==0:\n",
    "        period.append(str('00')+'-'+str(hour+1))\n",
    "    else:\n",
    "        periods.append(str(hour)+'-'+str(hour+1))\n",
    "print(\" sucessfully\")"
   ]
  },
  {
   "cell_type": "code",
   "execution_count": 217,
   "id": "11aa95b3",
   "metadata": {},
   "outputs": [
    {
     "data": {
      "text/plain": [
       "['23-00', '23-00']"
      ]
     },
     "execution_count": 217,
     "metadata": {},
     "output_type": "execute_result"
    }
   ],
   "source": [
    "periods[:2]"
   ]
  },
  {
   "cell_type": "code",
   "execution_count": 218,
   "id": "87a934d5",
   "metadata": {},
   "outputs": [],
   "source": [
    "df['period']=periods"
   ]
  },
  {
   "cell_type": "code",
   "execution_count": 219,
   "id": "76617a6d",
   "metadata": {},
   "outputs": [
    {
     "data": {
      "text/html": [
       "<div>\n",
       "<style scoped>\n",
       "    .dataframe tbody tr th:only-of-type {\n",
       "        vertical-align: middle;\n",
       "    }\n",
       "\n",
       "    .dataframe tbody tr th {\n",
       "        vertical-align: top;\n",
       "    }\n",
       "\n",
       "    .dataframe thead th {\n",
       "        text-align: right;\n",
       "    }\n",
       "</style>\n",
       "<table border=\"1\" class=\"dataframe\">\n",
       "  <thead>\n",
       "    <tr style=\"text-align: right;\">\n",
       "      <th></th>\n",
       "      <th>times</th>\n",
       "      <th>User Name</th>\n",
       "      <th>Messages</th>\n",
       "      <th>formats</th>\n",
       "      <th>year</th>\n",
       "      <th>moth</th>\n",
       "      <th>day</th>\n",
       "      <th>month_name</th>\n",
       "      <th>day_name</th>\n",
       "      <th>hour</th>\n",
       "      <th>minutes</th>\n",
       "      <th>period</th>\n",
       "    </tr>\n",
       "  </thead>\n",
       "  <tbody>\n",
       "    <tr>\n",
       "      <th>0</th>\n",
       "      <td>11:12</td>\n",
       "      <td>sirji</td>\n",
       "      <td>Data bits (d)= 10110011) Find number of redun...</td>\n",
       "      <td>pm</td>\n",
       "      <td>2023</td>\n",
       "      <td>3</td>\n",
       "      <td>4</td>\n",
       "      <td>March</td>\n",
       "      <td>Saturday</td>\n",
       "      <td>23</td>\n",
       "      <td>12</td>\n",
       "      <td>23-00</td>\n",
       "    </tr>\n",
       "    <tr>\n",
       "      <th>1</th>\n",
       "      <td>11:13</td>\n",
       "      <td>sirji</td>\n",
       "      <td>2) Find hamming code 3) Verify from receiver ...</td>\n",
       "      <td>pm</td>\n",
       "      <td>2023</td>\n",
       "      <td>3</td>\n",
       "      <td>4</td>\n",
       "      <td>March</td>\n",
       "      <td>Saturday</td>\n",
       "      <td>23</td>\n",
       "      <td>13</td>\n",
       "      <td>23-00</td>\n",
       "    </tr>\n",
       "    <tr>\n",
       "      <th>2</th>\n",
       "      <td>11:15</td>\n",
       "      <td>sirji</td>\n",
       "      <td>Tomorrow we shall complete ethernet standards...</td>\n",
       "      <td>pm</td>\n",
       "      <td>2023</td>\n",
       "      <td>3</td>\n",
       "      <td>4</td>\n",
       "      <td>March</td>\n",
       "      <td>Saturday</td>\n",
       "      <td>23</td>\n",
       "      <td>15</td>\n",
       "      <td>23-00</td>\n",
       "    </tr>\n",
       "    <tr>\n",
       "      <th>3</th>\n",
       "      <td>11:52</td>\n",
       "      <td>sirji</td>\n",
       "      <td>Anyone online?\\n</td>\n",
       "      <td>pm</td>\n",
       "      <td>2023</td>\n",
       "      <td>3</td>\n",
       "      <td>4</td>\n",
       "      <td>March</td>\n",
       "      <td>Saturday</td>\n",
       "      <td>23</td>\n",
       "      <td>52</td>\n",
       "      <td>23-00</td>\n",
       "    </tr>\n",
       "    <tr>\n",
       "      <th>4</th>\n",
       "      <td>11:52</td>\n",
       "      <td>sirji</td>\n",
       "      <td>Please acknowledge if anyone is online\\n</td>\n",
       "      <td>pm</td>\n",
       "      <td>2023</td>\n",
       "      <td>3</td>\n",
       "      <td>4</td>\n",
       "      <td>March</td>\n",
       "      <td>Saturday</td>\n",
       "      <td>23</td>\n",
       "      <td>52</td>\n",
       "      <td>23-00</td>\n",
       "    </tr>\n",
       "  </tbody>\n",
       "</table>\n",
       "</div>"
      ],
      "text/plain": [
       "   times User Name                                           Messages formats  \\\n",
       "0  11:12     sirji   Data bits (d)= 10110011) Find number of redun...      pm   \n",
       "1  11:13     sirji   2) Find hamming code 3) Verify from receiver ...      pm   \n",
       "2  11:15     sirji   Tomorrow we shall complete ethernet standards...      pm   \n",
       "3  11:52     sirji                                   Anyone online?\\n      pm   \n",
       "4  11:52     sirji           Please acknowledge if anyone is online\\n      pm   \n",
       "\n",
       "   year  moth  day month_name  day_name  hour minutes period  \n",
       "0  2023     3    4      March  Saturday    23      12  23-00  \n",
       "1  2023     3    4      March  Saturday    23      13  23-00  \n",
       "2  2023     3    4      March  Saturday    23      15  23-00  \n",
       "3  2023     3    4      March  Saturday    23      52  23-00  \n",
       "4  2023     3    4      March  Saturday    23      52  23-00  "
      ]
     },
     "execution_count": 219,
     "metadata": {},
     "output_type": "execute_result"
    }
   ],
   "source": [
    "df.head()"
   ]
  },
  {
   "cell_type": "code",
   "execution_count": 233,
   "id": "37e88972",
   "metadata": {},
   "outputs": [
    {
     "data": {
      "image/png": "[encoded data removed]",
      "text/plain": [
       "<Figure size 1200x500 with 2 Axes>"
      ]
     },
     "metadata": {},
     "output_type": "display_data"
    }
   ],
   "source": [
    "# hours vs day of weeks \n",
    "plt.figure(figsize=(12,5))\n",
    "datas=pd.pivot_table(index='day_name',columns='period',values='Messages',aggfunc='count',data=df).fillna(0)\n",
    "plt.title(\"DAYS OF week vs No of messagers\")\n",
    "sns.heatmap(datas,annot=True,cmap='summer')\n",
    "plt.show()"
   ]
  },
  {
   "cell_type": "code",
   "execution_count": 234,
   "id": "637a7998",
   "metadata": {},
   "outputs": [
    {
     "data": {
      "image/png": "[encoded data removed]",
      "text/plain": [
       "<Figure size 1200x500 with 2 Axes>"
      ]
     },
     "metadata": {},
     "output_type": "display_data"
    }
   ],
   "source": [
    "#Month vs daty of weeks \n",
    "plt.figure(figsize=(12,5))\n",
    "datas=pd.pivot_table(index='month_name',columns='period',values='Messages',aggfunc='count',data=df).fillna(0)\n",
    "plt.title(\"DAYS OF week vs No of messagers\")\n",
    "sns.heatmap(datas,annot=True,cmap='summer')\n",
    "plt.show()"
   ]
  },
  {
   "cell_type": "code",
   "execution_count": 235,
   "id": "8c96891d",
   "metadata": {},
   "outputs": [
    {
     "data": {
      "image/png": "[encoded data removed]",
      "text/plain": [
       "<Figure size 1200x500 with 2 Axes>"
      ]
     },
     "metadata": {},
     "output_type": "display_data"
    }
   ],
   "source": [
    "# individual persons and their cintribution in mesages \n",
    "plt.figure(figsize=(12,5))\n",
    "datas=pd.pivot_table(index='User Name',columns='period',values='Messages',aggfunc='count',data=df).fillna(0)\n",
    "plt.title(\"DAYS OF week vs No of messagers\")\n",
    "sns.heatmap(datas,annot=True,cmap='summer')\n",
    "plt.show()"
   ]
  },
  {
   "cell_type": "code",
   "execution_count": 243,
   "id": "0d5ac1da",
   "metadata": {},
   "outputs": [
    {
     "data": {
      "image/png": "[encoded data removed]",
      "text/plain": [
       "<Figure size 500x500 with 2 Axes>"
      ]
     },
     "metadata": {},
     "output_type": "display_data"
    }
   ],
   "source": [
    "plt.figure(figsize=(5,5))\n",
    "datas=pd.pivot_table(index='User Name',columns='formats',values='Messages',aggfunc='count',data=df).fillna(0)\n",
    "plt.title(\"DAYS OF week vs No of messagers\")\n",
    "sns.heatmap(datas,annot=True,cmap='summer')\n",
    "plt.show()"
   ]
  },
  {
   "cell_type": "code",
   "execution_count": 257,
   "id": "a7910ad7",
   "metadata": {},
   "outputs": [
    {
     "data": {
      "image/png": "[encoded data removed]",
      "text/plain": [
       "<Figure size 1500x800 with 2 Axes>"
      ]
     },
     "metadata": {},
     "output_type": "display_data"
    }
   ],
   "source": [
    "                   #frequency of message based on the minutes\n",
    "plt.figure(figsize=(15,8))\n",
    "datas=pd.pivot_table(index='User Name',columns='minutes',values='Messages',aggfunc='count',data=df).fillna(0)\n",
    "plt.title(\"Miutes vs No of messages\")\n",
    "sns.heatmap(datas,annot=True,cmap='hot')\n",
    "plt.show()           "
   ]
  },
  {
   "cell_type": "code",
   "execution_count": null,
   "id": "e8a04368",
   "metadata": {},
   "outputs": [],
   "source": [
    "df['']"
   ]
  },
  {
   "cell_type": "code",
   "execution_count": 241,
   "id": "c06a595a",
   "metadata": {},
   "outputs": [
    {
     "data": {
      "text/plain": [
       "18"
      ]
     },
     "execution_count": 241,
     "metadata": {},
     "output_type": "execute_result"
    }
   ],
   "source": [
    "len(df[df['User Name']=='Govinda Giri'])"
   ]
  },
  {
   "cell_type": "code",
   "execution_count": 227,
   "id": "18bd5598",
   "metadata": {},
   "outputs": [
    {
     "data": {
      "text/plain": [
       "array([ 4, 15,  5, 20, 21, 22, 24, 25, 26, 27,  7])"
      ]
     },
     "execution_count": 227,
     "metadata": {},
     "output_type": "execute_result"
    }
   ],
   "source": [
    "df['day'].unique()"
   ]
  },
  {
   "cell_type": "code",
   "execution_count": 228,
   "id": "c5e5ff5e",
   "metadata": {},
   "outputs": [
    {
     "data": {
      "text/plain": [
       "array(['Saturday', 'Tuesday', 'Monday', 'Sunday', 'Wednesday', 'Thursday',\n",
       "       'Friday'], dtype=object)"
      ]
     },
     "execution_count": 228,
     "metadata": {},
     "output_type": "execute_result"
    }
   ],
   "source": [
    "df['day_name'].unique()"
   ]
  },
  {
   "cell_type": "code",
   "execution_count": 238,
   "id": "c59050d0",
   "metadata": {},
   "outputs": [
    {
     "data": {
      "text/html": [
       "<div>\n",
       "<style scoped>\n",
       "    .dataframe tbody tr th:only-of-type {\n",
       "        vertical-align: middle;\n",
       "    }\n",
       "\n",
       "    .dataframe tbody tr th {\n",
       "        vertical-align: top;\n",
       "    }\n",
       "\n",
       "    .dataframe thead th {\n",
       "        text-align: right;\n",
       "    }\n",
       "</style>\n",
       "<table border=\"1\" class=\"dataframe\">\n",
       "  <thead>\n",
       "    <tr style=\"text-align: right;\">\n",
       "      <th></th>\n",
       "      <th>times</th>\n",
       "      <th>User Name</th>\n",
       "      <th>Messages</th>\n",
       "      <th>formats</th>\n",
       "      <th>year</th>\n",
       "      <th>moth</th>\n",
       "      <th>day</th>\n",
       "      <th>month_name</th>\n",
       "      <th>day_name</th>\n",
       "      <th>hour</th>\n",
       "      <th>minutes</th>\n",
       "      <th>period</th>\n",
       "    </tr>\n",
       "  </thead>\n",
       "  <tbody>\n",
       "    <tr>\n",
       "      <th>0</th>\n",
       "      <td>11:12</td>\n",
       "      <td>sirji</td>\n",
       "      <td>Data bits (d)= 10110011) Find number of redun...</td>\n",
       "      <td>pm</td>\n",
       "      <td>2023</td>\n",
       "      <td>3</td>\n",
       "      <td>4</td>\n",
       "      <td>March</td>\n",
       "      <td>Saturday</td>\n",
       "      <td>23</td>\n",
       "      <td>12</td>\n",
       "      <td>23-00</td>\n",
       "    </tr>\n",
       "    <tr>\n",
       "      <th>1</th>\n",
       "      <td>11:13</td>\n",
       "      <td>sirji</td>\n",
       "      <td>2) Find hamming code 3) Verify from receiver ...</td>\n",
       "      <td>pm</td>\n",
       "      <td>2023</td>\n",
       "      <td>3</td>\n",
       "      <td>4</td>\n",
       "      <td>March</td>\n",
       "      <td>Saturday</td>\n",
       "      <td>23</td>\n",
       "      <td>13</td>\n",
       "      <td>23-00</td>\n",
       "    </tr>\n",
       "    <tr>\n",
       "      <th>2</th>\n",
       "      <td>11:15</td>\n",
       "      <td>sirji</td>\n",
       "      <td>Tomorrow we shall complete ethernet standards...</td>\n",
       "      <td>pm</td>\n",
       "      <td>2023</td>\n",
       "      <td>3</td>\n",
       "      <td>4</td>\n",
       "      <td>March</td>\n",
       "      <td>Saturday</td>\n",
       "      <td>23</td>\n",
       "      <td>15</td>\n",
       "      <td>23-00</td>\n",
       "    </tr>\n",
       "    <tr>\n",
       "      <th>3</th>\n",
       "      <td>11:52</td>\n",
       "      <td>sirji</td>\n",
       "      <td>Anyone online?\\n</td>\n",
       "      <td>pm</td>\n",
       "      <td>2023</td>\n",
       "      <td>3</td>\n",
       "      <td>4</td>\n",
       "      <td>March</td>\n",
       "      <td>Saturday</td>\n",
       "      <td>23</td>\n",
       "      <td>52</td>\n",
       "      <td>23-00</td>\n",
       "    </tr>\n",
       "    <tr>\n",
       "      <th>4</th>\n",
       "      <td>11:52</td>\n",
       "      <td>sirji</td>\n",
       "      <td>Please acknowledge if anyone is online\\n</td>\n",
       "      <td>pm</td>\n",
       "      <td>2023</td>\n",
       "      <td>3</td>\n",
       "      <td>4</td>\n",
       "      <td>March</td>\n",
       "      <td>Saturday</td>\n",
       "      <td>23</td>\n",
       "      <td>52</td>\n",
       "      <td>23-00</td>\n",
       "    </tr>\n",
       "  </tbody>\n",
       "</table>\n",
       "</div>"
      ],
      "text/plain": [
       "   times User Name                                           Messages formats  \\\n",
       "0  11:12     sirji   Data bits (d)= 10110011) Find number of redun...      pm   \n",
       "1  11:13     sirji   2) Find hamming code 3) Verify from receiver ...      pm   \n",
       "2  11:15     sirji   Tomorrow we shall complete ethernet standards...      pm   \n",
       "3  11:52     sirji                                   Anyone online?\\n      pm   \n",
       "4  11:52     sirji           Please acknowledge if anyone is online\\n      pm   \n",
       "\n",
       "   year  moth  day month_name  day_name  hour minutes period  \n",
       "0  2023     3    4      March  Saturday    23      12  23-00  \n",
       "1  2023     3    4      March  Saturday    23      13  23-00  \n",
       "2  2023     3    4      March  Saturday    23      15  23-00  \n",
       "3  2023     3    4      March  Saturday    23      52  23-00  \n",
       "4  2023     3    4      March  Saturday    23      52  23-00  "
      ]
     },
     "execution_count": 238,
     "metadata": {},
     "output_type": "execute_result"
    }
   ],
   "source": [
    "df.head()"
   ]
  },
  {
   "cell_type": "markdown",
   "id": "1ad5cd37",
   "metadata": {},
   "source": [
    "# number of frequents words"
   ]
  },
  {
   "cell_type": "code",
   "execution_count": 1,
   "id": "4bf49500",
   "metadata": {},
   "outputs": [
    {
     "ename": "NameError",
     "evalue": "name 'df' is not defined",
     "output_type": "error",
     "traceback": [
      "\u001b[1;31m---------------------------------------------------------------------------\u001b[0m",
      "\u001b[1;31mNameError\u001b[0m                                 Traceback (most recent call last)",
      "Cell \u001b[1;32mIn[1], line 4\u001b[0m\n\u001b[0;32m      1\u001b[0m words\u001b[38;5;241m=\u001b[39m[]\n\u001b[0;32m      2\u001b[0m stopwords\u001b[38;5;241m=\u001b[39m[\u001b[38;5;124m'\u001b[39m\u001b[38;5;124mma\u001b[39m\u001b[38;5;124m'\u001b[39m,\u001b[38;5;124m'\u001b[39m\u001b[38;5;124mi\u001b[39m\u001b[38;5;124m'\u001b[39m,\u001b[38;5;124m'\u001b[39m\u001b[38;5;124mclass\u001b[39m\u001b[38;5;124m'\u001b[39m,\u001b[38;5;124m'\u001b[39m\u001b[38;5;124mto\u001b[39m\u001b[38;5;124m'\u001b[39m,\u001b[38;5;124m'\u001b[39m\u001b[38;5;124m<media\u001b[39m\u001b[38;5;124m'\u001b[39m,\u001b[38;5;124m'\u001b[39m\u001b[38;5;124momitted>\u001b[39m\u001b[38;5;124m'\u001b[39m,\u001b[38;5;124m'\u001b[39m\u001b[38;5;124mko\u001b[39m\u001b[38;5;124m'\u001b[39m,\u001b[38;5;124m'\u001b[39m\u001b[38;5;124mis\u001b[39m\u001b[38;5;124m'\u001b[39m,\u001b[38;5;124m'\u001b[39m\u001b[38;5;124min\u001b[39m\u001b[38;5;124m'\u001b[39m,\u001b[38;5;124m'\u001b[39m\u001b[38;5;124mni\u001b[39m\u001b[38;5;124m'\u001b[39m,\u001b[38;5;124m'\u001b[39m\u001b[38;5;124mta\u001b[39m\u001b[38;5;124m'\u001b[39m,\u001b[38;5;124m'\u001b[39m\u001b[38;5;124mif\u001b[39m\u001b[38;5;124m'\u001b[39m,\n\u001b[0;32m      3\u001b[0m            \u001b[38;5;124m'\u001b[39m\u001b[38;5;124mnot\u001b[39m\u001b[38;5;124m'\u001b[39m,\u001b[38;5;124m'\u001b[39m\u001b[38;5;124mof\u001b[39m\u001b[38;5;124m'\u001b[39m,\u001b[38;5;124m'\u001b[39m\u001b[38;5;124myou\u001b[39m\u001b[38;5;124m'\u001b[39m,\u001b[38;5;124m'\u001b[39m\u001b[38;5;124mwill\u001b[39m\u001b[38;5;124m'\u001b[39m,\u001b[38;5;124m'\u001b[39m\u001b[38;5;124mho\u001b[39m\u001b[38;5;124m'\u001b[39m,\u001b[38;5;124m'\u001b[39m\u001b[38;5;124mki\u001b[39m\u001b[38;5;124m'\u001b[39m,\u001b[38;5;124m'\u001b[39m\u001b[38;5;124mwe\u001b[39m\u001b[38;5;124m'\u001b[39m,\u001b[38;5;124m'\u001b[39m\u001b[38;5;124mit\u001b[39m\u001b[38;5;124m'\u001b[39m,\u001b[38;5;124m'\u001b[39m\u001b[38;5;124m3\u001b[39m\u001b[38;5;124m'\u001b[39m,\u001b[38;5;124m'\u001b[39m\u001b[38;5;124mani\u001b[39m\u001b[38;5;124m'\u001b[39m]\n\u001b[1;32m----> 4\u001b[0m \u001b[38;5;28;01mfor\u001b[39;00m message \u001b[38;5;129;01min\u001b[39;00m \u001b[43mdf\u001b[49m[\u001b[38;5;124m'\u001b[39m\u001b[38;5;124mMessages\u001b[39m\u001b[38;5;124m'\u001b[39m]:\n\u001b[0;32m      5\u001b[0m     \u001b[38;5;28;01mfor\u001b[39;00m word \u001b[38;5;129;01min\u001b[39;00m message\u001b[38;5;241m.\u001b[39msplit():\n\u001b[0;32m      6\u001b[0m         \u001b[38;5;28;01mif\u001b[39;00m word \u001b[38;5;129;01mnot\u001b[39;00m \u001b[38;5;129;01min\u001b[39;00m stopwords:\n",
      "\u001b[1;31mNameError\u001b[0m: name 'df' is not defined"
     ]
    }
   ],
   "source": [
    "words=[]\n",
    "stopwords=['ma','i','class','to','<media','omitted>','ko','is','in','ni','ta','if',\n",
    "           'not','of','you','will','ho','ki','we','it','3','ani']\n",
    "for message in df['Messages']:\n",
    "    for word in message.lower().split():\n",
    "        if word not in stopwords:\n",
    "            words.append(word)\n",
    "        "
   ]
  },
  {
   "cell_type": "code",
   "execution_count": 291,
   "id": "30db96eb",
   "metadata": {},
   "outputs": [
    {
     "data": {
      "text/html": [
       "<div>\n",
       "<style scoped>\n",
       "    .dataframe tbody tr th:only-of-type {\n",
       "        vertical-align: middle;\n",
       "    }\n",
       "\n",
       "    .dataframe tbody tr th {\n",
       "        vertical-align: top;\n",
       "    }\n",
       "\n",
       "    .dataframe thead th {\n",
       "        text-align: right;\n",
       "    }\n",
       "</style>\n",
       "<table border=\"1\" class=\"dataframe\">\n",
       "  <thead>\n",
       "    <tr style=\"text-align: right;\">\n",
       "      <th></th>\n",
       "      <th>0</th>\n",
       "      <th>1</th>\n",
       "    </tr>\n",
       "  </thead>\n",
       "  <tbody>\n",
       "    <tr>\n",
       "      <th>0</th>\n",
       "      <td>lab</td>\n",
       "      <td>36</td>\n",
       "    </tr>\n",
       "    <tr>\n",
       "      <th>1</th>\n",
       "      <td>sir</td>\n",
       "      <td>27</td>\n",
       "    </tr>\n",
       "    <tr>\n",
       "      <th>2</th>\n",
       "      <td>bholi</td>\n",
       "      <td>14</td>\n",
       "    </tr>\n",
       "    <tr>\n",
       "      <th>3</th>\n",
       "      <td>huss</td>\n",
       "      <td>9</td>\n",
       "    </tr>\n",
       "    <tr>\n",
       "      <th>4</th>\n",
       "      <td>please</td>\n",
       "      <td>8</td>\n",
       "    </tr>\n",
       "    <tr>\n",
       "      <th>5</th>\n",
       "      <td>hunxa</td>\n",
       "      <td>8</td>\n",
       "    </tr>\n",
       "    <tr>\n",
       "      <th>6</th>\n",
       "      <td>exam</td>\n",
       "      <td>7</td>\n",
       "    </tr>\n",
       "    <tr>\n",
       "      <th>7</th>\n",
       "      <td>linux</td>\n",
       "      <td>6</td>\n",
       "    </tr>\n",
       "    <tr>\n",
       "      <th>8</th>\n",
       "      <td>voli</td>\n",
       "      <td>6</td>\n",
       "    </tr>\n",
       "    <tr>\n",
       "      <th>9</th>\n",
       "      <td>30</td>\n",
       "      <td>6</td>\n",
       "    </tr>\n",
       "  </tbody>\n",
       "</table>\n",
       "</div>"
      ],
      "text/plain": [
       "        0   1\n",
       "0     lab  36\n",
       "1     sir  27\n",
       "2   bholi  14\n",
       "3    huss   9\n",
       "4  please   8\n",
       "5   hunxa   8\n",
       "6    exam   7\n",
       "7   linux   6\n",
       "8    voli   6\n",
       "9      30   6"
      ]
     },
     "execution_count": 291,
     "metadata": {},
     "output_type": "execute_result"
    }
   ],
   "source": [
    "# find the frequency of the first 20 \n",
    "from collections import Counter\n",
    "pd.DataFrame(Counter(words).most_common(10))"
   ]
  },
  {
   "cell_type": "code",
   "execution_count": 301,
   "id": "5d856f30",
   "metadata": {},
   "outputs": [
    {
     "data": {
      "image/png": "[encoded data removed]",
      "text/plain": [
       "<Figure size 640x480 with 1 Axes>"
      ]
     },
     "metadata": {},
     "output_type": "display_data"
    }
   ],
   "source": [
    "from collections import Counter\n",
    "dfsss=pd.DataFrame(Counter(words).most_common(10))\n",
    "plt.bar(dfsss[0],dfsss[1])\n",
    "plt.show()"
   ]
  },
  {
   "cell_type": "code",
   "execution_count": 297,
   "id": "c8d173f4",
   "metadata": {},
   "outputs": [
    {
     "data": {
      "text/html": [
       "<div>\n",
       "<style scoped>\n",
       "    .dataframe tbody tr th:only-of-type {\n",
       "        vertical-align: middle;\n",
       "    }\n",
       "\n",
       "    .dataframe tbody tr th {\n",
       "        vertical-align: top;\n",
       "    }\n",
       "\n",
       "    .dataframe thead th {\n",
       "        text-align: right;\n",
       "    }\n",
       "</style>\n",
       "<table border=\"1\" class=\"dataframe\">\n",
       "  <thead>\n",
       "    <tr style=\"text-align: right;\">\n",
       "      <th></th>\n",
       "      <th>0</th>\n",
       "      <th>1</th>\n",
       "    </tr>\n",
       "  </thead>\n",
       "  <tbody>\n",
       "    <tr>\n",
       "      <th>0</th>\n",
       "      <td>lab</td>\n",
       "      <td>36</td>\n",
       "    </tr>\n",
       "    <tr>\n",
       "      <th>1</th>\n",
       "      <td>sir</td>\n",
       "      <td>27</td>\n",
       "    </tr>\n",
       "    <tr>\n",
       "      <th>2</th>\n",
       "      <td>bholi</td>\n",
       "      <td>14</td>\n",
       "    </tr>\n",
       "    <tr>\n",
       "      <th>3</th>\n",
       "      <td>huss</td>\n",
       "      <td>9</td>\n",
       "    </tr>\n",
       "    <tr>\n",
       "      <th>4</th>\n",
       "      <td>please</td>\n",
       "      <td>8</td>\n",
       "    </tr>\n",
       "  </tbody>\n",
       "</table>\n",
       "</div>"
      ],
      "text/plain": [
       "        0   1\n",
       "0     lab  36\n",
       "1     sir  27\n",
       "2   bholi  14\n",
       "3    huss   9\n",
       "4  please   8"
      ]
     },
     "execution_count": 297,
     "metadata": {},
     "output_type": "execute_result"
    }
   ],
   "source": [
    "dfsss.head()"
   ]
  },
  {
   "cell_type": "code",
   "execution_count": null,
   "id": "20a3a0a6",
   "metadata": {},
   "outputs": [],
   "source": []
  }
 ],
 "metadata": {
  "kernelspec": {
   "display_name": "Python 3 (ipykernel)",
   "language": "python",
   "name": "python3"
  },
  "language_info": {
   "codemirror_mode": {
    "name": "ipython",
    "version": 3
   },
   "file_extension": ".py",
   "mimetype": "text/x-python",
   "name": "python",
   "nbconvert_exporter": "python",
   "pygments_lexer": "ipython3",
   "version": "3.12.6"
  }
 },
 "nbformat": 4,
 "nbformat_minor": 5
}
